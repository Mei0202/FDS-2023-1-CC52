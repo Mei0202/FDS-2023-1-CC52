{
 "cells": [
  {
   "cell_type": "code",
<<<<<<< HEAD
   "execution_count": 3,
=======
   "execution_count": 1,
>>>>>>> c0aff0dc364ddf780165b50de936602fc2e3760a
   "metadata": {},
   "outputs": [],
   "source": [
    "import pandas as pd\n",
    "import seaborn as sb\n",
    "import matplotlib.pyplot as plt\n",
    "import numpy as np\n",
    "%matplotlib inline"
   ]
  },
  {
   "cell_type": "code",
<<<<<<< HEAD
   "execution_count": 4,
=======
   "execution_count": 2,
>>>>>>> c0aff0dc364ddf780165b50de936602fc2e3760a
   "metadata": {},
   "outputs": [],
   "source": [
    "bikeB = pd.read_csv(\"bike_buyers.csv\")"
   ]
  },
  {
   "cell_type": "code",
<<<<<<< HEAD
   "execution_count": 5,
=======
   "execution_count": 3,
>>>>>>> c0aff0dc364ddf780165b50de936602fc2e3760a
   "metadata": {},
   "outputs": [
    {
     "data": {
      "text/html": [
       "<div>\n",
       "<style scoped>\n",
       "    .dataframe tbody tr th:only-of-type {\n",
       "        vertical-align: middle;\n",
       "    }\n",
       "\n",
       "    .dataframe tbody tr th {\n",
       "        vertical-align: top;\n",
       "    }\n",
       "\n",
       "    .dataframe thead th {\n",
       "        text-align: right;\n",
       "    }\n",
       "</style>\n",
       "<table border=\"1\" class=\"dataframe\">\n",
       "  <thead>\n",
       "    <tr style=\"text-align: right;\">\n",
       "      <th></th>\n",
       "      <th>ID</th>\n",
       "      <th>Marital Status</th>\n",
       "      <th>Gender</th>\n",
       "      <th>Income</th>\n",
       "      <th>Children</th>\n",
       "      <th>Education</th>\n",
       "      <th>Occupation</th>\n",
       "      <th>Home Owner</th>\n",
       "      <th>Cars</th>\n",
       "      <th>Commute Distance</th>\n",
       "      <th>Region</th>\n",
       "      <th>Age</th>\n",
       "      <th>Purchased Bike</th>\n",
       "    </tr>\n",
       "  </thead>\n",
       "  <tbody>\n",
       "    <tr>\n",
       "      <th>0</th>\n",
       "      <td>12496</td>\n",
       "      <td>Married</td>\n",
       "      <td>Female</td>\n",
       "      <td>40000.0</td>\n",
       "      <td>1.0</td>\n",
       "      <td>Bachelors</td>\n",
       "      <td>Skilled Manual</td>\n",
       "      <td>Yes</td>\n",
       "      <td>0.0</td>\n",
       "      <td>0-1 Miles</td>\n",
       "      <td>Europe</td>\n",
       "      <td>42.0</td>\n",
       "      <td>No</td>\n",
       "    </tr>\n",
       "    <tr>\n",
       "      <th>1</th>\n",
       "      <td>24107</td>\n",
       "      <td>Married</td>\n",
       "      <td>Male</td>\n",
       "      <td>30000.0</td>\n",
       "      <td>3.0</td>\n",
       "      <td>Partial College</td>\n",
       "      <td>Clerical</td>\n",
       "      <td>Yes</td>\n",
       "      <td>1.0</td>\n",
       "      <td>0-1 Miles</td>\n",
       "      <td>Europe</td>\n",
       "      <td>43.0</td>\n",
       "      <td>No</td>\n",
       "    </tr>\n",
       "    <tr>\n",
       "      <th>2</th>\n",
       "      <td>14177</td>\n",
       "      <td>Married</td>\n",
       "      <td>Male</td>\n",
       "      <td>80000.0</td>\n",
       "      <td>5.0</td>\n",
       "      <td>Partial College</td>\n",
       "      <td>Professional</td>\n",
       "      <td>No</td>\n",
       "      <td>2.0</td>\n",
       "      <td>2-5 Miles</td>\n",
       "      <td>Europe</td>\n",
       "      <td>60.0</td>\n",
       "      <td>No</td>\n",
       "    </tr>\n",
       "    <tr>\n",
       "      <th>3</th>\n",
       "      <td>24381</td>\n",
       "      <td>Single</td>\n",
       "      <td>NaN</td>\n",
       "      <td>70000.0</td>\n",
       "      <td>0.0</td>\n",
       "      <td>Bachelors</td>\n",
       "      <td>Professional</td>\n",
       "      <td>Yes</td>\n",
       "      <td>1.0</td>\n",
       "      <td>5-10 Miles</td>\n",
       "      <td>Pacific</td>\n",
       "      <td>41.0</td>\n",
       "      <td>Yes</td>\n",
       "    </tr>\n",
       "    <tr>\n",
       "      <th>4</th>\n",
       "      <td>25597</td>\n",
       "      <td>Single</td>\n",
       "      <td>Male</td>\n",
       "      <td>30000.0</td>\n",
       "      <td>0.0</td>\n",
       "      <td>Bachelors</td>\n",
       "      <td>Clerical</td>\n",
       "      <td>No</td>\n",
       "      <td>0.0</td>\n",
       "      <td>0-1 Miles</td>\n",
       "      <td>Europe</td>\n",
       "      <td>36.0</td>\n",
       "      <td>Yes</td>\n",
       "    </tr>\n",
       "    <tr>\n",
       "      <th>...</th>\n",
       "      <td>...</td>\n",
       "      <td>...</td>\n",
       "      <td>...</td>\n",
       "      <td>...</td>\n",
       "      <td>...</td>\n",
       "      <td>...</td>\n",
       "      <td>...</td>\n",
       "      <td>...</td>\n",
       "      <td>...</td>\n",
       "      <td>...</td>\n",
       "      <td>...</td>\n",
       "      <td>...</td>\n",
       "      <td>...</td>\n",
       "    </tr>\n",
       "    <tr>\n",
       "      <th>995</th>\n",
       "      <td>23731</td>\n",
       "      <td>Married</td>\n",
       "      <td>Male</td>\n",
       "      <td>60000.0</td>\n",
       "      <td>2.0</td>\n",
       "      <td>High School</td>\n",
       "      <td>Professional</td>\n",
       "      <td>Yes</td>\n",
       "      <td>2.0</td>\n",
       "      <td>2-5 Miles</td>\n",
       "      <td>North America</td>\n",
       "      <td>54.0</td>\n",
       "      <td>Yes</td>\n",
       "    </tr>\n",
       "    <tr>\n",
       "      <th>996</th>\n",
       "      <td>28672</td>\n",
       "      <td>Single</td>\n",
       "      <td>Male</td>\n",
       "      <td>70000.0</td>\n",
       "      <td>4.0</td>\n",
       "      <td>Graduate Degree</td>\n",
       "      <td>Professional</td>\n",
       "      <td>Yes</td>\n",
       "      <td>0.0</td>\n",
       "      <td>2-5 Miles</td>\n",
       "      <td>North America</td>\n",
       "      <td>35.0</td>\n",
       "      <td>Yes</td>\n",
       "    </tr>\n",
       "    <tr>\n",
       "      <th>997</th>\n",
       "      <td>11809</td>\n",
       "      <td>Married</td>\n",
       "      <td>NaN</td>\n",
       "      <td>60000.0</td>\n",
       "      <td>2.0</td>\n",
       "      <td>Bachelors</td>\n",
       "      <td>Skilled Manual</td>\n",
       "      <td>Yes</td>\n",
       "      <td>0.0</td>\n",
       "      <td>0-1 Miles</td>\n",
       "      <td>North America</td>\n",
       "      <td>38.0</td>\n",
       "      <td>Yes</td>\n",
       "    </tr>\n",
       "    <tr>\n",
       "      <th>998</th>\n",
       "      <td>19664</td>\n",
       "      <td>Single</td>\n",
       "      <td>Male</td>\n",
       "      <td>100000.0</td>\n",
       "      <td>3.0</td>\n",
       "      <td>Bachelors</td>\n",
       "      <td>Management</td>\n",
       "      <td>No</td>\n",
       "      <td>3.0</td>\n",
       "      <td>1-2 Miles</td>\n",
       "      <td>North America</td>\n",
       "      <td>38.0</td>\n",
       "      <td>No</td>\n",
       "    </tr>\n",
       "    <tr>\n",
       "      <th>999</th>\n",
       "      <td>12121</td>\n",
       "      <td>Single</td>\n",
       "      <td>Male</td>\n",
       "      <td>60000.0</td>\n",
       "      <td>3.0</td>\n",
       "      <td>High School</td>\n",
       "      <td>Professional</td>\n",
       "      <td>Yes</td>\n",
       "      <td>2.0</td>\n",
       "      <td>10+ Miles</td>\n",
       "      <td>North America</td>\n",
       "      <td>53.0</td>\n",
       "      <td>Yes</td>\n",
       "    </tr>\n",
       "  </tbody>\n",
       "</table>\n",
       "<p>1000 rows × 13 columns</p>\n",
       "</div>"
      ],
      "text/plain": [
       "        ID Marital Status  Gender    Income  Children        Education  \\\n",
       "0    12496        Married  Female   40000.0       1.0        Bachelors   \n",
       "1    24107        Married    Male   30000.0       3.0  Partial College   \n",
       "2    14177        Married    Male   80000.0       5.0  Partial College   \n",
       "3    24381         Single     NaN   70000.0       0.0        Bachelors   \n",
       "4    25597         Single    Male   30000.0       0.0        Bachelors   \n",
       "..     ...            ...     ...       ...       ...              ...   \n",
       "995  23731        Married    Male   60000.0       2.0      High School   \n",
       "996  28672         Single    Male   70000.0       4.0  Graduate Degree   \n",
       "997  11809        Married     NaN   60000.0       2.0        Bachelors   \n",
       "998  19664         Single    Male  100000.0       3.0        Bachelors   \n",
       "999  12121         Single    Male   60000.0       3.0      High School   \n",
       "\n",
       "         Occupation Home Owner  Cars Commute Distance         Region   Age  \\\n",
       "0    Skilled Manual        Yes   0.0        0-1 Miles         Europe  42.0   \n",
       "1          Clerical        Yes   1.0        0-1 Miles         Europe  43.0   \n",
       "2      Professional         No   2.0        2-5 Miles         Europe  60.0   \n",
       "3      Professional        Yes   1.0       5-10 Miles        Pacific  41.0   \n",
       "4          Clerical         No   0.0        0-1 Miles         Europe  36.0   \n",
       "..              ...        ...   ...              ...            ...   ...   \n",
       "995    Professional        Yes   2.0        2-5 Miles  North America  54.0   \n",
       "996    Professional        Yes   0.0        2-5 Miles  North America  35.0   \n",
       "997  Skilled Manual        Yes   0.0        0-1 Miles  North America  38.0   \n",
       "998      Management         No   3.0        1-2 Miles  North America  38.0   \n",
       "999    Professional        Yes   2.0        10+ Miles  North America  53.0   \n",
       "\n",
       "    Purchased Bike  \n",
       "0               No  \n",
       "1               No  \n",
       "2               No  \n",
       "3              Yes  \n",
       "4              Yes  \n",
       "..             ...  \n",
       "995            Yes  \n",
       "996            Yes  \n",
       "997            Yes  \n",
       "998             No  \n",
       "999            Yes  \n",
       "\n",
       "[1000 rows x 13 columns]"
      ]
     },
<<<<<<< HEAD
     "execution_count": 5,
=======
     "execution_count": 3,
>>>>>>> c0aff0dc364ddf780165b50de936602fc2e3760a
     "metadata": {},
     "output_type": "execute_result"
    }
   ],
   "source": [
    "bikeB"
   ]
  },
  {
   "cell_type": "code",
<<<<<<< HEAD
   "execution_count": 6,
=======
   "execution_count": 4,
>>>>>>> c0aff0dc364ddf780165b50de936602fc2e3760a
   "metadata": {},
   "outputs": [
    {
     "name": "stdout",
     "output_type": "stream",
     "text": [
      "<class 'pandas.core.frame.DataFrame'>\n",
      "RangeIndex: 1000 entries, 0 to 999\n",
      "Data columns (total 13 columns):\n",
      " #   Column            Non-Null Count  Dtype  \n",
      "---  ------            --------------  -----  \n",
      " 0   ID                1000 non-null   int64  \n",
      " 1   Marital Status    993 non-null    object \n",
      " 2   Gender            989 non-null    object \n",
      " 3   Income            994 non-null    float64\n",
      " 4   Children          992 non-null    float64\n",
      " 5   Education         1000 non-null   object \n",
      " 6   Occupation        1000 non-null   object \n",
      " 7   Home Owner        996 non-null    object \n",
      " 8   Cars              991 non-null    float64\n",
      " 9   Commute Distance  1000 non-null   object \n",
      " 10  Region            1000 non-null   object \n",
      " 11  Age               992 non-null    float64\n",
      " 12  Purchased Bike    1000 non-null   object \n",
      "dtypes: float64(4), int64(1), object(8)\n",
      "memory usage: 101.7+ KB\n"
     ]
    }
   ],
   "source": [
    "bikeB.info()\n"
   ]
  },
  {
   "cell_type": "code",
<<<<<<< HEAD
   "execution_count": 7,
=======
   "execution_count": 5,
>>>>>>> c0aff0dc364ddf780165b50de936602fc2e3760a
   "metadata": {},
   "outputs": [
    {
     "data": {
      "text/plain": [
       "False    1000\n",
       "dtype: int64"
      ]
     },
<<<<<<< HEAD
     "execution_count": 7,
=======
     "execution_count": 5,
>>>>>>> c0aff0dc364ddf780165b50de936602fc2e3760a
     "metadata": {},
     "output_type": "execute_result"
    }
   ],
   "source": [
    "#No se encontraron datos duplicados\n",
    "bikeB.duplicated().value_counts()"
   ]
  },
  {
   "cell_type": "code",
<<<<<<< HEAD
   "execution_count": 8,
=======
   "execution_count": 6,
>>>>>>> c0aff0dc364ddf780165b50de936602fc2e3760a
   "metadata": {},
   "outputs": [
    {
     "data": {
      "text/plain": [
       "<AxesSubplot:xlabel='Marital Status', ylabel='Income'>"
      ]
     },
<<<<<<< HEAD
     "execution_count": 8,
=======
     "execution_count": 6,
>>>>>>> c0aff0dc364ddf780165b50de936602fc2e3760a
     "metadata": {},
     "output_type": "execute_result"
    },
    {
     "data": {
      "image/png": "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",
      "text/plain": [
       "<Figure size 432x288 with 1 Axes>"
      ]
     },
     "metadata": {
      "needs_background": "light"
     },
     "output_type": "display_data"
    }
   ],
   "source": [
    "sb.boxplot(x=\"Marital Status\",y=\"Income\",data=bikeB)"
   ]
  },
  {
   "cell_type": "code",
<<<<<<< HEAD
   "execution_count": 9,
=======
   "execution_count": 7,
>>>>>>> c0aff0dc364ddf780165b50de936602fc2e3760a
   "metadata": {},
   "outputs": [],
   "source": [
    "#Limpieza de la columna gender\n",
    "bikeB2 =bikeB.copy()\n",
    "\n",
    "#L = list()\n",
    "#L=bikeB2[bikeB2[\"Gender\"].isnull()][\"ID\"].values\n",
    "\n",
    "bikeB2.loc[bikeB2['Gender'].isna(),\"Gender\"]= [i for i in np.random.choice(bikeB2[bikeB2[\"Gender\"].isnull()==False][\"Gender\"].unique(), bikeB2['Gender'].isna().sum())]\n",
    "\n",
    "#para revisar los datos reemplazados\n",
    "#for ID in L:\n",
    "  # print (bikeB2[bikeB2[\"ID\"]==ID][\"Gender\"])\n",
    "\n",
    "#bikeB.iloc[99][\"Gender\"]"
   ]
  },
  {
   "cell_type": "code",
<<<<<<< HEAD
   "execution_count": 10,
=======
   "execution_count": 8,
>>>>>>> c0aff0dc364ddf780165b50de936602fc2e3760a
   "metadata": {},
   "outputs": [],
   "source": [
    "#Limpieza de la Columna Edad\n",
    "bikeB2[\"Age\"]=bikeB2[\"Age\"].fillna(value=bikeB2[\"Age\"].median())\n",
    "\n",
    "#bikeB2.info()"
   ]
  },
  {
   "cell_type": "code",
<<<<<<< HEAD
   "execution_count": 11,
=======
   "execution_count": 9,
>>>>>>> c0aff0dc364ddf780165b50de936602fc2e3760a
   "metadata": {},
   "outputs": [],
   "source": [
    "#Limpieza de la columna Income\n",
<<<<<<< HEAD
    "bikeB2[\"Income\"]=bikeB2[\"Income\"].fillna(value=bikeB2[\"Income\"].median())\n",
    "#ya que hay datos atipicos\n"
=======
    "bikeB2[\"Income\"]=bikeB2[\"Income\"].fillna(value=bikeB2[\"Income\"].mean())\n",
    "\n"
>>>>>>> c0aff0dc364ddf780165b50de936602fc2e3760a
   ]
  },
  {
   "cell_type": "code",
<<<<<<< HEAD
   "execution_count": 12,
=======
   "execution_count": 10,
>>>>>>> c0aff0dc364ddf780165b50de936602fc2e3760a
   "metadata": {},
   "outputs": [],
   "source": [
    "#Limpieza de la columna Children\n",
    "\n",
    "bikeB2.loc[bikeB2[\"Children\"].isna(),\"Children\"]= [i for i in np.random.choice([0,1,2,3,4,5], bikeB2[\"Children\"].isna().sum())]\n"
   ]
  },
  {
   "cell_type": "code",
<<<<<<< HEAD
   "execution_count": 13,
=======
   "execution_count": 11,
>>>>>>> c0aff0dc364ddf780165b50de936602fc2e3760a
   "metadata": {},
   "outputs": [],
   "source": [
    "#Limpieza de la columna Marital Status\n",
    "bikeB2.loc[bikeB2[\"Marital Status\"].isna(),\"Marital Status\"]= [i for i in np.random.choice(bikeB2[bikeB2[\"Marital Status\"].isnull()==False][\"Marital Status\"].unique(), bikeB2['Marital Status'].isna().sum())]\n"
   ]
  },
  {
   "cell_type": "code",
<<<<<<< HEAD
   "execution_count": 14,
=======
   "execution_count": 12,
>>>>>>> c0aff0dc364ddf780165b50de936602fc2e3760a
   "metadata": {},
   "outputs": [],
   "source": [
    "#Limpieza de la columna Car\n",
    "bikeB2.loc[bikeB2[\"Cars\"].isna(),\"Cars\"]= [i for i in np.random.choice([0,1,2,3,4], bikeB2[\"Cars\"].isna().sum())]"
   ]
  },
  {
   "cell_type": "code",
<<<<<<< HEAD
   "execution_count": 15,
=======
   "execution_count": 13,
>>>>>>> c0aff0dc364ddf780165b50de936602fc2e3760a
   "metadata": {},
   "outputs": [],
   "source": [
    "#Limpieza de la columna HomeOwner\n",
    "bikeB2.loc[bikeB2[\"Home Owner\"].isna(),\"Home Owner\"]=[i for i in np.random.choice(bikeB2[bikeB2[\"Home Owner\"].isnull()==False][\"Home Owner\"].unique(), bikeB2[\"Home Owner\"].isna().sum())]\n"
   ]
  },
  {
   "cell_type": "code",
<<<<<<< HEAD
   "execution_count": 16,
=======
   "execution_count": 14,
>>>>>>> c0aff0dc364ddf780165b50de936602fc2e3760a
   "metadata": {},
   "outputs": [],
   "source": [
    "# Segmentar Commute Distance\n",
    "\n",
    "#['0-1 Miles', '2-5 Miles', '5-10 Miles', '1-2 Miles', '10+ Miles']\n",
    "\n",
    "bikeB2[\"New Commute Distance\"] = bikeB2[\"Commute Distance\"].replace({\"0-1 Miles\":\"Minimal\",\"1-2 Miles\":\"Short\",\"2-5 Miles\":\"Moderate\",\"5-10 Miles\":\"Long\",\"10+ Miles\":\"Extensive\"})\n"
   ]
  },
  {
   "cell_type": "code",
<<<<<<< HEAD
   "execution_count": 17,
=======
   "execution_count": 15,
>>>>>>> c0aff0dc364ddf780165b50de936602fc2e3760a
   "metadata": {},
   "outputs": [
    {
     "data": {
      "text/html": [
       "<div>\n",
       "<style scoped>\n",
       "    .dataframe tbody tr th:only-of-type {\n",
       "        vertical-align: middle;\n",
       "    }\n",
       "\n",
       "    .dataframe tbody tr th {\n",
       "        vertical-align: top;\n",
       "    }\n",
       "\n",
       "    .dataframe thead th {\n",
       "        text-align: right;\n",
       "    }\n",
       "</style>\n",
       "<table border=\"1\" class=\"dataframe\">\n",
       "  <thead>\n",
       "    <tr style=\"text-align: right;\">\n",
       "      <th></th>\n",
       "      <th>Income</th>\n",
       "    </tr>\n",
       "    <tr>\n",
       "      <th>Purchased Bike</th>\n",
       "      <th></th>\n",
       "    </tr>\n",
       "  </thead>\n",
       "  <tbody>\n",
       "    <tr>\n",
       "      <th>No</th>\n",
       "      <td>54874.759152</td>\n",
       "    </tr>\n",
       "    <tr>\n",
       "      <th>Yes</th>\n",
<<<<<<< HEAD
       "      <td>57817.047817</td>\n",
=======
       "      <td>57770.489883</td>\n",
>>>>>>> c0aff0dc364ddf780165b50de936602fc2e3760a
       "    </tr>\n",
       "  </tbody>\n",
       "</table>\n",
       "</div>"
      ],
      "text/plain": [
       "                      Income\n",
       "Purchased Bike              \n",
       "No              54874.759152\n",
<<<<<<< HEAD
       "Yes             57817.047817"
      ]
     },
     "execution_count": 17,
=======
       "Yes             57770.489883"
      ]
     },
     "execution_count": 15,
>>>>>>> c0aff0dc364ddf780165b50de936602fc2e3760a
     "metadata": {},
     "output_type": "execute_result"
    }
   ],
   "source": [
    "#¿Cuánto es el promedio de ingresos de acuerdo con si la bicicleta fue comprada o no por el cliente?\n",
    "\n",
    "MeanIncomePB=bikeB2[[\"Income\",\"Purchased Bike\"]].groupby(\"Purchased Bike\")\n",
    "MeanIncomePB.mean()"
   ]
  },
  {
   "cell_type": "code",
<<<<<<< HEAD
   "execution_count": 18,
=======
   "execution_count": 16,
>>>>>>> c0aff0dc364ddf780165b50de936602fc2e3760a
   "metadata": {},
   "outputs": [
    {
     "data": {
      "text/html": [
       "<div>\n",
       "<style scoped>\n",
       "    .dataframe tbody tr th:only-of-type {\n",
       "        vertical-align: middle;\n",
       "    }\n",
       "\n",
       "    .dataframe tbody tr th {\n",
       "        vertical-align: top;\n",
       "    }\n",
       "\n",
       "    .dataframe thead th {\n",
       "        text-align: right;\n",
       "    }\n",
       "</style>\n",
       "<table border=\"1\" class=\"dataframe\">\n",
       "  <thead>\n",
       "    <tr style=\"text-align: right;\">\n",
       "      <th></th>\n",
       "      <th>Income</th>\n",
       "    </tr>\n",
       "    <tr>\n",
       "      <th>Marital Status</th>\n",
       "      <th></th>\n",
       "    </tr>\n",
       "  </thead>\n",
       "  <tbody>\n",
       "    <tr>\n",
       "      <th>Married</th>\n",
<<<<<<< HEAD
       "      <td>58653.136531</td>\n",
       "    </tr>\n",
       "    <tr>\n",
       "      <th>Single</th>\n",
       "      <td>53493.449782</td>\n",
=======
       "      <td>58640.897429</td>\n",
       "    </tr>\n",
       "    <tr>\n",
       "      <th>Single</th>\n",
       "      <td>53503.902201</td>\n",
>>>>>>> c0aff0dc364ddf780165b50de936602fc2e3760a
       "    </tr>\n",
       "  </tbody>\n",
       "</table>\n",
       "</div>"
      ],
      "text/plain": [
       "                      Income\n",
       "Marital Status              \n",
<<<<<<< HEAD
       "Married         58653.136531\n",
       "Single          53493.449782"
      ]
     },
     "execution_count": 18,
=======
       "Married         58640.897429\n",
       "Single          53503.902201"
      ]
     },
     "execution_count": 16,
>>>>>>> c0aff0dc364ddf780165b50de936602fc2e3760a
     "metadata": {},
     "output_type": "execute_result"
    }
   ],
   "source": [
    "#¿Cuánto es el promedio de ingresos según el estado civil del cliente?\n",
    "MeanIncomeMS=bikeB2[[\"Income\",\"Marital Status\"]].groupby(\"Marital Status\")\n",
    "MeanIncomeMS.mean()"
   ]
  },
  {
   "cell_type": "code",
<<<<<<< HEAD
   "execution_count": 19,
=======
   "execution_count": 38,
>>>>>>> c0aff0dc364ddf780165b50de936602fc2e3760a
   "metadata": {},
   "outputs": [],
   "source": [
    "#Creamos una nueva columna que indique con el valor 1 si es que tiene hijos, y el valor 0 si es que no tiene hijos\n",
    "bikeB2[\"Con_Hijos\"]=np.where(bikeB2[\"Children\"]>0,1,0)\n"
   ]
  },
  {
   "cell_type": "code",
<<<<<<< HEAD
   "execution_count": 20,
=======
   "execution_count": 46,
>>>>>>> c0aff0dc364ddf780165b50de936602fc2e3760a
   "metadata": {},
   "outputs": [
    {
     "data": {
      "text/html": [
       "<div>\n",
       "<style scoped>\n",
       "    .dataframe tbody tr th:only-of-type {\n",
       "        vertical-align: middle;\n",
       "    }\n",
       "\n",
       "    .dataframe tbody tr th {\n",
       "        vertical-align: top;\n",
       "    }\n",
       "\n",
       "    .dataframe thead th {\n",
       "        text-align: right;\n",
       "    }\n",
       "</style>\n",
       "<table border=\"1\" class=\"dataframe\">\n",
       "  <thead>\n",
       "    <tr style=\"text-align: right;\">\n",
       "      <th></th>\n",
       "      <th>Children</th>\n",
       "    </tr>\n",
       "    <tr>\n",
       "      <th>Education</th>\n",
       "      <th></th>\n",
       "    </tr>\n",
       "  </thead>\n",
       "  <tbody>\n",
       "    <tr>\n",
       "      <th>Bachelors</th>\n",
<<<<<<< HEAD
       "      <td>1.937908</td>\n",
       "    </tr>\n",
       "    <tr>\n",
       "      <th>Graduate Degree</th>\n",
       "      <td>2.028736</td>\n",
       "    </tr>\n",
       "    <tr>\n",
       "      <th>High School</th>\n",
       "      <td>1.966480</td>\n",
       "    </tr>\n",
       "    <tr>\n",
       "      <th>Partial College</th>\n",
       "      <td>1.856604</td>\n",
       "    </tr>\n",
       "    <tr>\n",
       "      <th>Partial High School</th>\n",
       "      <td>1.578947</td>\n",
=======
       "      <td>1.931373</td>\n",
       "    </tr>\n",
       "    <tr>\n",
       "      <th>Graduate Degree</th>\n",
       "      <td>2.017241</td>\n",
       "    </tr>\n",
       "    <tr>\n",
       "      <th>High School</th>\n",
       "      <td>1.960894</td>\n",
       "    </tr>\n",
       "    <tr>\n",
       "      <th>Partial College</th>\n",
       "      <td>1.867925</td>\n",
       "    </tr>\n",
       "    <tr>\n",
       "      <th>Partial High School</th>\n",
       "      <td>1.605263</td>\n",
>>>>>>> c0aff0dc364ddf780165b50de936602fc2e3760a
       "    </tr>\n",
       "  </tbody>\n",
       "</table>\n",
       "</div>"
      ],
      "text/plain": [
       "                     Children\n",
       "Education                    \n",
<<<<<<< HEAD
       "Bachelors            1.937908\n",
       "Graduate Degree      2.028736\n",
       "High School          1.966480\n",
       "Partial College      1.856604\n",
       "Partial High School  1.578947"
      ]
     },
     "execution_count": 20,
=======
       "Bachelors            1.931373\n",
       "Graduate Degree      2.017241\n",
       "High School          1.960894\n",
       "Partial College      1.867925\n",
       "Partial High School  1.605263"
      ]
     },
     "execution_count": 46,
>>>>>>> c0aff0dc364ddf780165b50de936602fc2e3760a
     "metadata": {},
     "output_type": "execute_result"
    }
   ],
   "source": [
    "Mean_N_hijosXEdu = bikeB2[[\"Children\",\"Education\"]].groupby(\"Education\")\n",
    "Mean_N_hijosXEdu.mean()"
   ]
  },
  {
   "cell_type": "code",
<<<<<<< HEAD
   "execution_count": 21,
=======
   "execution_count": 74,
>>>>>>> c0aff0dc364ddf780165b50de936602fc2e3760a
   "metadata": {},
   "outputs": [
    {
     "data": {
      "text/plain": [
       "<AxesSubplot:xlabel='Education', ylabel='Children'>"
      ]
     },
<<<<<<< HEAD
     "execution_count": 21,
=======
     "execution_count": 74,
>>>>>>> c0aff0dc364ddf780165b50de936602fc2e3760a
     "metadata": {},
     "output_type": "execute_result"
    },
    {
     "data": {
<<<<<<< HEAD
      "image/png": "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",
=======
      "image/png": "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",
>>>>>>> c0aff0dc364ddf780165b50de936602fc2e3760a
      "text/plain": [
       "<Figure size 648x360 with 1 Axes>"
      ]
     },
     "metadata": {
      "needs_background": "light"
     },
     "output_type": "display_data"
    }
   ],
   "source": [
    "plt.figure(figsize=(9,5))\n",
    "sb.boxplot(x=\"Education\",y=\"Children\",data=bikeB2,showmeans=True,meanprops={'marker':'o','markerfacecolor':'white','markeredgecolor':'black','markersize':'5'})"
   ]
  },
  {
   "cell_type": "code",
<<<<<<< HEAD
   "execution_count": 22,
=======
   "execution_count": 75,
>>>>>>> c0aff0dc364ddf780165b50de936602fc2e3760a
   "metadata": {},
   "outputs": [],
   "source": [
    "#Creamos una nueva columna que indique con el valor 1 si es que el cliente tiene vehiculo, y 0 si no tiene\n",
    "bikeB2[\"Con_vehiculo\"]=np.where(bikeB2[\"Cars\"]>0,1,0)"
   ]
  },
  {
   "cell_type": "code",
<<<<<<< HEAD
   "execution_count": 23,
=======
   "execution_count": 84,
>>>>>>> c0aff0dc364ddf780165b50de936602fc2e3760a
   "metadata": {},
   "outputs": [
    {
     "data": {
      "text/html": [
       "<div>\n",
       "<style scoped>\n",
       "    .dataframe tbody tr th:only-of-type {\n",
       "        vertical-align: middle;\n",
       "    }\n",
       "\n",
       "    .dataframe tbody tr th {\n",
       "        vertical-align: top;\n",
       "    }\n",
       "\n",
       "    .dataframe thead th {\n",
       "        text-align: right;\n",
       "    }\n",
       "</style>\n",
       "<table border=\"1\" class=\"dataframe\">\n",
       "  <thead>\n",
       "    <tr style=\"text-align: right;\">\n",
       "      <th></th>\n",
       "      <th>Cars</th>\n",
       "    </tr>\n",
       "    <tr>\n",
       "      <th>Occupation</th>\n",
       "      <th></th>\n",
       "    </tr>\n",
       "  </thead>\n",
       "  <tbody>\n",
       "    <tr>\n",
       "      <th>Clerical</th>\n",
<<<<<<< HEAD
       "      <td>0.875706</td>\n",
       "    </tr>\n",
       "    <tr>\n",
       "      <th>Management</th>\n",
       "      <td>2.150289</td>\n",
       "    </tr>\n",
       "    <tr>\n",
       "      <th>Manual</th>\n",
       "      <td>1.067227</td>\n",
       "    </tr>\n",
       "    <tr>\n",
       "      <th>Professional</th>\n",
       "      <td>1.706522</td>\n",
=======
       "      <td>0.836158</td>\n",
       "    </tr>\n",
       "    <tr>\n",
       "      <th>Management</th>\n",
       "      <td>2.167630</td>\n",
       "    </tr>\n",
       "    <tr>\n",
       "      <th>Manual</th>\n",
       "      <td>1.050420</td>\n",
       "    </tr>\n",
       "    <tr>\n",
       "      <th>Professional</th>\n",
       "      <td>1.717391</td>\n",
>>>>>>> c0aff0dc364ddf780165b50de936602fc2e3760a
       "    </tr>\n",
       "    <tr>\n",
       "      <th>Skilled Manual</th>\n",
       "      <td>1.309804</td>\n",
       "    </tr>\n",
       "  </tbody>\n",
       "</table>\n",
       "</div>"
      ],
      "text/plain": [
       "                    Cars\n",
       "Occupation              \n",
<<<<<<< HEAD
       "Clerical        0.875706\n",
       "Management      2.150289\n",
       "Manual          1.067227\n",
       "Professional    1.706522\n",
       "Skilled Manual  1.309804"
      ]
     },
     "execution_count": 23,
=======
       "Clerical        0.836158\n",
       "Management      2.167630\n",
       "Manual          1.050420\n",
       "Professional    1.717391\n",
       "Skilled Manual  1.309804"
      ]
     },
     "execution_count": 84,
>>>>>>> c0aff0dc364ddf780165b50de936602fc2e3760a
     "metadata": {},
     "output_type": "execute_result"
    }
   ],
   "source": [
    "Mean_VehixCli = bikeB2[[\"Occupation\",\"Cars\"]].groupby(\"Occupation\")\n",
    "Mean_VehixCli.mean()"
   ]
  },
  {
   "cell_type": "code",
<<<<<<< HEAD
   "execution_count": 24,
=======
   "execution_count": 156,
>>>>>>> c0aff0dc364ddf780165b50de936602fc2e3760a
   "metadata": {},
   "outputs": [
    {
     "data": {
      "text/plain": [
       "<AxesSubplot:xlabel='Occupation', ylabel='Cars'>"
      ]
     },
<<<<<<< HEAD
     "execution_count": 24,
=======
     "execution_count": 156,
>>>>>>> c0aff0dc364ddf780165b50de936602fc2e3760a
     "metadata": {},
     "output_type": "execute_result"
    },
    {
     "data": {
<<<<<<< HEAD
      "image/png": "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",
=======
      "image/png": "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",
>>>>>>> c0aff0dc364ddf780165b50de936602fc2e3760a
      "text/plain": [
       "<Figure size 432x288 with 1 Axes>"
      ]
     },
     "metadata": {
      "needs_background": "light"
     },
     "output_type": "display_data"
    }
   ],
   "source": [
    "\n",
    "sb.violinplot(x=\"Occupation\",y=\"Cars\",data=bikeB2,cut=0)"
   ]
  },
  {
   "cell_type": "code",
<<<<<<< HEAD
   "execution_count": 25,
=======
   "execution_count": 97,
>>>>>>> c0aff0dc364ddf780165b50de936602fc2e3760a
   "metadata": {},
   "outputs": [
    {
     "data": {
      "text/html": [
       "<div>\n",
       "<style scoped>\n",
       "    .dataframe tbody tr th:only-of-type {\n",
       "        vertical-align: middle;\n",
       "    }\n",
       "\n",
       "    .dataframe tbody tr th {\n",
       "        vertical-align: top;\n",
       "    }\n",
       "\n",
       "    .dataframe thead th {\n",
       "        text-align: right;\n",
       "    }\n",
       "</style>\n",
       "<table border=\"1\" class=\"dataframe\">\n",
       "  <thead>\n",
       "    <tr style=\"text-align: right;\">\n",
       "      <th></th>\n",
       "      <th>Age</th>\n",
       "    </tr>\n",
       "    <tr>\n",
       "      <th>Home Owner</th>\n",
       "      <th></th>\n",
       "    </tr>\n",
       "  </thead>\n",
       "  <tbody>\n",
       "    <tr>\n",
       "      <th>No</th>\n",
<<<<<<< HEAD
       "      <td>42.323810</td>\n",
       "    </tr>\n",
       "    <tr>\n",
       "      <th>Yes</th>\n",
       "      <td>45.021898</td>\n",
=======
       "      <td>42.310127</td>\n",
       "    </tr>\n",
       "    <tr>\n",
       "      <th>Yes</th>\n",
       "      <td>45.032164</td>\n",
>>>>>>> c0aff0dc364ddf780165b50de936602fc2e3760a
       "    </tr>\n",
       "  </tbody>\n",
       "</table>\n",
       "</div>"
      ],
      "text/plain": [
       "                  Age\n",
       "Home Owner           \n",
<<<<<<< HEAD
       "No          42.323810\n",
       "Yes         45.021898"
      ]
     },
     "execution_count": 25,
=======
       "No          42.310127\n",
       "Yes         45.032164"
      ]
     },
     "execution_count": 97,
>>>>>>> c0aff0dc364ddf780165b50de936602fc2e3760a
     "metadata": {},
     "output_type": "execute_result"
    }
   ],
   "source": [
    "#Promedio de edad de acuerdo si el cliente es o no es dueño de una casa\n",
    "HomeOwnerxAge = bikeB2[[\"Home Owner\",\"Age\"]].groupby(\"Home Owner\")\n",
    "HomeOwnerxAge.mean()\n"
   ]
  },
  {
   "cell_type": "code",
<<<<<<< HEAD
   "execution_count": 26,
=======
   "execution_count": 179,
>>>>>>> c0aff0dc364ddf780165b50de936602fc2e3760a
   "metadata": {},
   "outputs": [
    {
     "data": {
      "text/plain": [
       "<AxesSubplot:xlabel='Home Owner', ylabel='Age'>"
      ]
     },
<<<<<<< HEAD
     "execution_count": 26,
=======
     "execution_count": 179,
>>>>>>> c0aff0dc364ddf780165b50de936602fc2e3760a
     "metadata": {},
     "output_type": "execute_result"
    },
    {
     "data": {
      "image/png": "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",
      "text/plain": [
       "<Figure size 432x288 with 1 Axes>"
      ]
     },
     "metadata": {
      "needs_background": "light"
     },
     "output_type": "display_data"
    }
   ],
   "source": [
    "\n",
    "sb.boxplot(data=bikeB2,x=\"Home Owner\",y=\"Age\",palette=\"Set1\",showmeans=True)\n"
   ]
<<<<<<< HEAD
  },
  {
   "cell_type": "code",
   "execution_count": 27,
   "metadata": {},
   "outputs": [
    {
     "data": {
      "text/plain": [
       "<AxesSubplot:>"
      ]
     },
     "execution_count": 27,
     "metadata": {},
     "output_type": "execute_result"
    },
    {
     "data": {
      "image/png": "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",
      "text/plain": [
       "<Figure size 432x288 with 2 Axes>"
      ]
     },
     "metadata": {
      "needs_background": "light"
     },
     "output_type": "display_data"
    }
   ],
   "source": [
    "\n",
    "#plt.figure(figsize=(25,5))\n",
    "#sb.countplot(x=\"Income\",data=bikeB2)\n",
    "sb.heatmap(bikeB2.corr(),annot=True,cmap='coolwarm')\n",
    "\n",
    "\n",
    "#sb.pairplot(bikeB2,kind='reg')"
   ]
  },
  {
   "cell_type": "code",
   "execution_count": 28,
   "metadata": {},
   "outputs": [],
   "source": [
    "\n",
    "#bikeB3[bikeB3['Income']<=50000]['Income']=\"Bajo\"\n",
    "#bikeB3[]['Income']=\"Medio\"\n",
    "#bikeB3[]['Income']=\"Alto\"\n",
    "\n"
   ]
  },
  {
   "attachments": {},
   "cell_type": "markdown",
   "metadata": {},
   "source": [
    "MODELADO"
   ]
  },
  {
   "cell_type": "code",
   "execution_count": 29,
   "metadata": {},
   "outputs": [],
   "source": [
    "bikeB3 =bikeB2[(bikeB2['Income']<=110000) &(bikeB2['Age']<=75)].copy()\n",
    "#bikeB3['Income_Log'] = round(np.log(bikeB3['Income']+1),2)\n",
    "bikeB3['Purchased Bike'] = bikeB3['Purchased Bike'].replace({\"Yes\":1,\"No\":0})\n"
   ]
  },
  {
   "cell_type": "code",
   "execution_count": 30,
   "metadata": {},
   "outputs": [],
   "source": [
    "Bike_index = bikeB3[['ID','Purchased Bike']]\n",
    "bikeB3 = bikeB3.drop(['ID'], axis = 1)\n",
    "bikeB3 = bikeB3.drop(['Con_Hijos'], axis = 1)\n",
    "bikeB3 = bikeB3.drop(['Con_vehiculo'], axis = 1)\n",
    "bikeB3 = bikeB3.drop(['Education'], axis = 1)\n",
    "##bikeB3 = bikeB3.drop(['Income'], axis = 1)\n"
   ]
  },
  {
   "cell_type": "code",
   "execution_count": 31,
   "metadata": {},
   "outputs": [],
   "source": [
    "V_numericas= bikeB3.select_dtypes(include=['float64', 'int'])"
   ]
  },
  {
   "cell_type": "code",
   "execution_count": 32,
   "metadata": {},
   "outputs": [],
   "source": [
    "bikeB3 = bikeB3.drop(['Commute Distance'], axis = 1)\n",
    "V_categoricas = bikeB3.select_dtypes(include=['object','category'])"
   ]
  },
  {
   "cell_type": "code",
   "execution_count": 33,
   "metadata": {},
   "outputs": [
    {
     "data": {
      "text/html": [
       "<div>\n",
       "<style scoped>\n",
       "    .dataframe tbody tr th:only-of-type {\n",
       "        vertical-align: middle;\n",
       "    }\n",
       "\n",
       "    .dataframe tbody tr th {\n",
       "        vertical-align: top;\n",
       "    }\n",
       "\n",
       "    .dataframe thead th {\n",
       "        text-align: right;\n",
       "    }\n",
       "</style>\n",
       "<table border=\"1\" class=\"dataframe\">\n",
       "  <thead>\n",
       "    <tr style=\"text-align: right;\">\n",
       "      <th></th>\n",
       "      <th>Marital Status</th>\n",
       "      <th>Gender</th>\n",
       "      <th>Income</th>\n",
       "      <th>Children</th>\n",
       "      <th>Occupation</th>\n",
       "      <th>Home Owner</th>\n",
       "      <th>Cars</th>\n",
       "      <th>Region</th>\n",
       "      <th>Age</th>\n",
       "      <th>Purchased Bike</th>\n",
       "      <th>New Commute Distance</th>\n",
       "    </tr>\n",
       "  </thead>\n",
       "  <tbody>\n",
       "    <tr>\n",
       "      <th>0</th>\n",
       "      <td>Married</td>\n",
       "      <td>Female</td>\n",
       "      <td>40000.0</td>\n",
       "      <td>1.0</td>\n",
       "      <td>Skilled Manual</td>\n",
       "      <td>Yes</td>\n",
       "      <td>0.0</td>\n",
       "      <td>Europe</td>\n",
       "      <td>42.0</td>\n",
       "      <td>0</td>\n",
       "      <td>Minimal</td>\n",
       "    </tr>\n",
       "    <tr>\n",
       "      <th>1</th>\n",
       "      <td>Married</td>\n",
       "      <td>Male</td>\n",
       "      <td>30000.0</td>\n",
       "      <td>3.0</td>\n",
       "      <td>Clerical</td>\n",
       "      <td>Yes</td>\n",
       "      <td>1.0</td>\n",
       "      <td>Europe</td>\n",
       "      <td>43.0</td>\n",
       "      <td>0</td>\n",
       "      <td>Minimal</td>\n",
       "    </tr>\n",
       "    <tr>\n",
       "      <th>2</th>\n",
       "      <td>Married</td>\n",
       "      <td>Male</td>\n",
       "      <td>80000.0</td>\n",
       "      <td>5.0</td>\n",
       "      <td>Professional</td>\n",
       "      <td>No</td>\n",
       "      <td>2.0</td>\n",
       "      <td>Europe</td>\n",
       "      <td>60.0</td>\n",
       "      <td>0</td>\n",
       "      <td>Moderate</td>\n",
       "    </tr>\n",
       "    <tr>\n",
       "      <th>3</th>\n",
       "      <td>Single</td>\n",
       "      <td>Female</td>\n",
       "      <td>70000.0</td>\n",
       "      <td>0.0</td>\n",
       "      <td>Professional</td>\n",
       "      <td>Yes</td>\n",
       "      <td>1.0</td>\n",
       "      <td>Pacific</td>\n",
       "      <td>41.0</td>\n",
       "      <td>1</td>\n",
       "      <td>Long</td>\n",
       "    </tr>\n",
       "    <tr>\n",
       "      <th>4</th>\n",
       "      <td>Single</td>\n",
       "      <td>Male</td>\n",
       "      <td>30000.0</td>\n",
       "      <td>0.0</td>\n",
       "      <td>Clerical</td>\n",
       "      <td>No</td>\n",
       "      <td>0.0</td>\n",
       "      <td>Europe</td>\n",
       "      <td>36.0</td>\n",
       "      <td>1</td>\n",
       "      <td>Minimal</td>\n",
       "    </tr>\n",
       "  </tbody>\n",
       "</table>\n",
       "</div>"
      ],
      "text/plain": [
       "  Marital Status  Gender   Income  Children      Occupation Home Owner  Cars  \\\n",
       "0        Married  Female  40000.0       1.0  Skilled Manual        Yes   0.0   \n",
       "1        Married    Male  30000.0       3.0        Clerical        Yes   1.0   \n",
       "2        Married    Male  80000.0       5.0    Professional         No   2.0   \n",
       "3         Single  Female  70000.0       0.0    Professional        Yes   1.0   \n",
       "4         Single    Male  30000.0       0.0        Clerical         No   0.0   \n",
       "\n",
       "    Region   Age  Purchased Bike New Commute Distance  \n",
       "0   Europe  42.0               0              Minimal  \n",
       "1   Europe  43.0               0              Minimal  \n",
       "2   Europe  60.0               0             Moderate  \n",
       "3  Pacific  41.0               1                 Long  \n",
       "4   Europe  36.0               1              Minimal  "
      ]
     },
     "execution_count": 33,
     "metadata": {},
     "output_type": "execute_result"
    }
   ],
   "source": [
    "#V_categoricas.describe()\n",
    "#V_numericas.describe()\n",
    "bikeB3.head()"
   ]
  },
  {
   "cell_type": "code",
   "execution_count": 34,
   "metadata": {},
   "outputs": [
    {
     "data": {
      "text/plain": [
       "<AxesSubplot:>"
      ]
     },
     "execution_count": 34,
     "metadata": {},
     "output_type": "execute_result"
    },
    {
     "data": {
      "image/png": "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",
      "text/plain": [
       "<Figure size 432x288 with 2 Axes>"
      ]
     },
     "metadata": {
      "needs_background": "light"
     },
     "output_type": "display_data"
    }
   ],
   "source": [
    "sb.heatmap(bikeB3.corr(),annot=True,cmap='coolwarm')"
   ]
  },
  {
   "cell_type": "code",
   "execution_count": 35,
   "metadata": {},
   "outputs": [],
   "source": [
    "X = bikeB3.drop([\"Purchased Bike\"],axis=1)\n",
    "Y =bikeB3[\"Purchased Bike\"]\n",
    "\n"
   ]
  },
  {
   "cell_type": "code",
   "execution_count": 36,
   "metadata": {},
   "outputs": [],
   "source": [
    "from sklearn.preprocessing import StandardScaler\n",
    "from sklearn.model_selection import train_test_split\n",
    "from sklearn.ensemble import RandomForestClassifier, GradientBoostingClassifier\n",
    "from sklearn.model_selection import cross_val_score\n",
    "from sklearn.model_selection import StratifiedKFold\n",
    "from sklearn.linear_model import LogisticRegression\n",
    "from sklearn.metrics import  roc_curve, auc, silhouette_score, recall_score, precision_score, confusion_matrix, accuracy_score\n",
    "from sklearn import metrics"
   ]
  },
  {
   "cell_type": "code",
   "execution_count": 37,
   "metadata": {},
   "outputs": [
    {
     "data": {
      "text/plain": [
       "['Income', 'Children', 'Cars', 'Age']"
      ]
     },
     "execution_count": 37,
     "metadata": {},
     "output_type": "execute_result"
    }
   ],
   "source": [
    "categoricas = X.select_dtypes(include=('object','category')).columns.tolist()\n",
    "numericas = X.select_dtypes(include=('int64','float64')).columns.tolist()\n",
    "numericas"
   ]
  },
  {
   "cell_type": "code",
   "execution_count": 38,
   "metadata": {},
   "outputs": [],
   "source": [
    "'Con_Hijos','Con_vehiculo'\n",
    "categorical=pd.get_dummies(X[categoricas],columns=categoricas,drop_first=True)\n",
    "categorical.columns = ['Marital Status','Gender','Occupation_1','Occupation_2','Occupation_3',\n",
    "'Occupation_4','Home Owner','Region_1','Region_2',\"Commute Distance_1\",\"Commute Distance_2\",\"Commute Distance_3\",\"Commute Distance_4\"]\n",
    "\n",
    "#categorical.columns = ['Marital Status','Gender','Education_1','Education_2','Education_3','Education_4','Occupation_1','Occupation_2','Occupation_3',\n",
    "#'Occupation_4','Home Owner','Region_1','Region_2',\"Commute Distance_1\",\"Commute Distance_2\",\"Commute Distance_3\",\"Commute Distance_4\",\"Con_Hijos\",\"Con_vehiculo\"]"
   ]
  },
  {
   "cell_type": "code",
   "execution_count": 39,
   "metadata": {},
   "outputs": [
    {
     "data": {
      "text/html": [
       "<div>\n",
       "<style scoped>\n",
       "    .dataframe tbody tr th:only-of-type {\n",
       "        vertical-align: middle;\n",
       "    }\n",
       "\n",
       "    .dataframe tbody tr th {\n",
       "        vertical-align: top;\n",
       "    }\n",
       "\n",
       "    .dataframe thead th {\n",
       "        text-align: right;\n",
       "    }\n",
       "</style>\n",
       "<table border=\"1\" class=\"dataframe\">\n",
       "  <thead>\n",
       "    <tr style=\"text-align: right;\">\n",
       "      <th></th>\n",
       "      <th>Income</th>\n",
       "      <th>Children</th>\n",
       "      <th>Cars</th>\n",
       "      <th>Age</th>\n",
       "      <th>Marital Status</th>\n",
       "      <th>Gender</th>\n",
       "      <th>Occupation_1</th>\n",
       "      <th>Occupation_2</th>\n",
       "      <th>Occupation_3</th>\n",
       "      <th>Occupation_4</th>\n",
       "      <th>Home Owner</th>\n",
       "      <th>Region_1</th>\n",
       "      <th>Region_2</th>\n",
       "      <th>Commute Distance_1</th>\n",
       "      <th>Commute Distance_2</th>\n",
       "      <th>Commute Distance_3</th>\n",
       "      <th>Commute Distance_4</th>\n",
       "    </tr>\n",
       "  </thead>\n",
       "  <tbody>\n",
       "    <tr>\n",
       "      <th>0</th>\n",
       "      <td>40000.0</td>\n",
       "      <td>1.0</td>\n",
       "      <td>0.0</td>\n",
       "      <td>42.0</td>\n",
       "      <td>0</td>\n",
       "      <td>0</td>\n",
       "      <td>0</td>\n",
       "      <td>0</td>\n",
       "      <td>0</td>\n",
       "      <td>1</td>\n",
       "      <td>1</td>\n",
       "      <td>0</td>\n",
       "      <td>0</td>\n",
       "      <td>0</td>\n",
       "      <td>1</td>\n",
       "      <td>0</td>\n",
       "      <td>0</td>\n",
       "    </tr>\n",
       "    <tr>\n",
       "      <th>1</th>\n",
       "      <td>30000.0</td>\n",
       "      <td>3.0</td>\n",
       "      <td>1.0</td>\n",
       "      <td>43.0</td>\n",
       "      <td>0</td>\n",
       "      <td>1</td>\n",
       "      <td>0</td>\n",
       "      <td>0</td>\n",
       "      <td>0</td>\n",
       "      <td>0</td>\n",
       "      <td>1</td>\n",
       "      <td>0</td>\n",
       "      <td>0</td>\n",
       "      <td>0</td>\n",
       "      <td>1</td>\n",
       "      <td>0</td>\n",
       "      <td>0</td>\n",
       "    </tr>\n",
       "    <tr>\n",
       "      <th>2</th>\n",
       "      <td>80000.0</td>\n",
       "      <td>5.0</td>\n",
       "      <td>2.0</td>\n",
       "      <td>60.0</td>\n",
       "      <td>0</td>\n",
       "      <td>1</td>\n",
       "      <td>0</td>\n",
       "      <td>0</td>\n",
       "      <td>1</td>\n",
       "      <td>0</td>\n",
       "      <td>0</td>\n",
       "      <td>0</td>\n",
       "      <td>0</td>\n",
       "      <td>0</td>\n",
       "      <td>0</td>\n",
       "      <td>1</td>\n",
       "      <td>0</td>\n",
       "    </tr>\n",
       "    <tr>\n",
       "      <th>3</th>\n",
       "      <td>70000.0</td>\n",
       "      <td>0.0</td>\n",
       "      <td>1.0</td>\n",
       "      <td>41.0</td>\n",
       "      <td>1</td>\n",
       "      <td>0</td>\n",
       "      <td>0</td>\n",
       "      <td>0</td>\n",
       "      <td>1</td>\n",
       "      <td>0</td>\n",
       "      <td>1</td>\n",
       "      <td>0</td>\n",
       "      <td>1</td>\n",
       "      <td>1</td>\n",
       "      <td>0</td>\n",
       "      <td>0</td>\n",
       "      <td>0</td>\n",
       "    </tr>\n",
       "    <tr>\n",
       "      <th>4</th>\n",
       "      <td>30000.0</td>\n",
       "      <td>0.0</td>\n",
       "      <td>0.0</td>\n",
       "      <td>36.0</td>\n",
       "      <td>1</td>\n",
       "      <td>1</td>\n",
       "      <td>0</td>\n",
       "      <td>0</td>\n",
       "      <td>0</td>\n",
       "      <td>0</td>\n",
       "      <td>0</td>\n",
       "      <td>0</td>\n",
       "      <td>0</td>\n",
       "      <td>0</td>\n",
       "      <td>1</td>\n",
       "      <td>0</td>\n",
       "      <td>0</td>\n",
       "    </tr>\n",
       "  </tbody>\n",
       "</table>\n",
       "</div>"
      ],
      "text/plain": [
       "    Income  Children  Cars   Age  Marital Status  Gender  Occupation_1  \\\n",
       "0  40000.0       1.0   0.0  42.0               0       0             0   \n",
       "1  30000.0       3.0   1.0  43.0               0       1             0   \n",
       "2  80000.0       5.0   2.0  60.0               0       1             0   \n",
       "3  70000.0       0.0   1.0  41.0               1       0             0   \n",
       "4  30000.0       0.0   0.0  36.0               1       1             0   \n",
       "\n",
       "   Occupation_2  Occupation_3  Occupation_4  Home Owner  Region_1  Region_2  \\\n",
       "0             0             0             1           1         0         0   \n",
       "1             0             0             0           1         0         0   \n",
       "2             0             1             0           0         0         0   \n",
       "3             0             1             0           1         0         1   \n",
       "4             0             0             0           0         0         0   \n",
       "\n",
       "   Commute Distance_1  Commute Distance_2  Commute Distance_3  \\\n",
       "0                   0                   1                   0   \n",
       "1                   0                   1                   0   \n",
       "2                   0                   0                   1   \n",
       "3                   1                   0                   0   \n",
       "4                   0                   1                   0   \n",
       "\n",
       "   Commute Distance_4  \n",
       "0                   0  \n",
       "1                   0  \n",
       "2                   0  \n",
       "3                   0  \n",
       "4                   0  "
      ]
     },
     "execution_count": 39,
     "metadata": {},
     "output_type": "execute_result"
    }
   ],
   "source": [
    "\n",
    "numerical = X[numericas]\n",
    "numerical\n",
    "preprocessed_data = pd.merge(numerical, categorical, left_index=True, right_index=True)\n",
    "preprocessed_data.head()"
   ]
  },
  {
   "cell_type": "code",
   "execution_count": 40,
   "metadata": {},
   "outputs": [
    {
     "name": "stdout",
     "output_type": "stream",
     "text": [
      "N de  Marital Status : 2\n",
      "N de  Gender : 2\n",
      "N de  Occupation : 5\n",
      "N de  Home Owner : 2\n",
      "N de  Region : 3\n",
      "N de  New Commute Distance : 5\n"
     ]
    }
   ],
   "source": [
    "variables_str  = X.select_dtypes(include = ['object','category']).columns.tolist()\n",
    "for var in variables_str:\n",
    "    print('N de ', var,':',bikeB3[var].nunique())"
   ]
  },
  {
   "attachments": {},
   "cell_type": "markdown",
   "metadata": {},
   "source": [
    "Entrenamiento"
   ]
  },
  {
   "cell_type": "code",
   "execution_count": 41,
   "metadata": {},
   "outputs": [],
   "source": [
    "X_train, X_test, y_train, y_test = train_test_split(preprocessed_data,Y,train_size = 0.8,random_state = 20,stratify = Y)"
   ]
  },
  {
   "cell_type": "code",
   "execution_count": 42,
   "metadata": {},
   "outputs": [],
   "source": [
    "model_rf = RandomForestClassifier(random_state = 49, max_features = \"auto\")\n"
   ]
  },
  {
   "cell_type": "code",
   "execution_count": 43,
   "metadata": {},
   "outputs": [
    {
     "name": "stdout",
     "output_type": "stream",
     "text": [
      "Todos los scores: [0.75333333 0.65333333 0.74       0.68666667 0.73825503]\n",
      "Promedio de los scores: 0.7143176733780761\n"
     ]
    }
   ],
   "source": [
    "skf = StratifiedKFold(n_splits= 5,shuffle=True, random_state = 49)\n",
    "cross_val = cross_val_score(cv = skf, estimator = model_rf, X=X_train, y=y_train,scoring = 'accuracy') # 'auc_roc'\n",
    "\n",
    "print(\"Todos los scores:\",cross_val)\n",
    "print(\"Promedio de los scores:\",np.mean(cross_val))"
   ]
  },
  {
   "cell_type": "code",
   "execution_count": 44,
   "metadata": {},
   "outputs": [],
   "source": [
    "# Entrenamiento\n",
    "model_rf_all = model_rf.fit(X_train, y_train)"
   ]
  },
  {
   "cell_type": "code",
   "execution_count": 45,
   "metadata": {},
   "outputs": [
    {
     "data": {
      "text/html": [
       "<div>\n",
       "<style scoped>\n",
       "    .dataframe tbody tr th:only-of-type {\n",
       "        vertical-align: middle;\n",
       "    }\n",
       "\n",
       "    .dataframe tbody tr th {\n",
       "        vertical-align: top;\n",
       "    }\n",
       "\n",
       "    .dataframe thead th {\n",
       "        text-align: right;\n",
       "    }\n",
       "</style>\n",
       "<table border=\"1\" class=\"dataframe\">\n",
       "  <thead>\n",
       "    <tr style=\"text-align: right;\">\n",
       "      <th></th>\n",
       "      <th>variable</th>\n",
       "      <th>Importancia</th>\n",
       "    </tr>\n",
       "  </thead>\n",
       "  <tbody>\n",
       "    <tr>\n",
       "      <th>3</th>\n",
       "      <td>Age</td>\n",
       "      <td>0.261486</td>\n",
       "    </tr>\n",
       "    <tr>\n",
       "      <th>0</th>\n",
       "      <td>Income</td>\n",
       "      <td>0.138223</td>\n",
       "    </tr>\n",
       "    <tr>\n",
       "      <th>1</th>\n",
       "      <td>Children</td>\n",
       "      <td>0.117898</td>\n",
       "    </tr>\n",
       "    <tr>\n",
       "      <th>2</th>\n",
       "      <td>Cars</td>\n",
       "      <td>0.097619</td>\n",
       "    </tr>\n",
       "    <tr>\n",
       "      <th>5</th>\n",
       "      <td>Gender</td>\n",
       "      <td>0.053363</td>\n",
       "    </tr>\n",
       "    <tr>\n",
       "      <th>4</th>\n",
       "      <td>Marital Status</td>\n",
       "      <td>0.051280</td>\n",
       "    </tr>\n",
       "    <tr>\n",
       "      <th>10</th>\n",
       "      <td>Home Owner</td>\n",
       "      <td>0.041059</td>\n",
       "    </tr>\n",
       "    <tr>\n",
       "      <th>11</th>\n",
       "      <td>Region_1</td>\n",
       "      <td>0.032787</td>\n",
       "    </tr>\n",
       "    <tr>\n",
       "      <th>14</th>\n",
       "      <td>Commute Distance_2</td>\n",
       "      <td>0.030345</td>\n",
       "    </tr>\n",
       "    <tr>\n",
       "      <th>15</th>\n",
       "      <td>Commute Distance_3</td>\n",
       "      <td>0.026008</td>\n",
       "    </tr>\n",
       "    <tr>\n",
       "      <th>12</th>\n",
       "      <td>Region_2</td>\n",
       "      <td>0.025990</td>\n",
       "    </tr>\n",
       "    <tr>\n",
       "      <th>13</th>\n",
       "      <td>Commute Distance_1</td>\n",
       "      <td>0.025254</td>\n",
       "    </tr>\n",
       "    <tr>\n",
       "      <th>16</th>\n",
       "      <td>Commute Distance_4</td>\n",
       "      <td>0.024334</td>\n",
       "    </tr>\n",
       "    <tr>\n",
       "      <th>9</th>\n",
       "      <td>Occupation_4</td>\n",
       "      <td>0.024290</td>\n",
       "    </tr>\n",
       "    <tr>\n",
       "      <th>8</th>\n",
       "      <td>Occupation_3</td>\n",
       "      <td>0.020490</td>\n",
       "    </tr>\n",
       "    <tr>\n",
       "      <th>6</th>\n",
       "      <td>Occupation_1</td>\n",
       "      <td>0.015501</td>\n",
       "    </tr>\n",
       "    <tr>\n",
       "      <th>7</th>\n",
       "      <td>Occupation_2</td>\n",
       "      <td>0.014072</td>\n",
       "    </tr>\n",
       "  </tbody>\n",
       "</table>\n",
       "</div>"
      ],
      "text/plain": [
       "              variable  Importancia\n",
       "3                  Age     0.261486\n",
       "0               Income     0.138223\n",
       "1             Children     0.117898\n",
       "2                 Cars     0.097619\n",
       "5               Gender     0.053363\n",
       "4       Marital Status     0.051280\n",
       "10          Home Owner     0.041059\n",
       "11            Region_1     0.032787\n",
       "14  Commute Distance_2     0.030345\n",
       "15  Commute Distance_3     0.026008\n",
       "12            Region_2     0.025990\n",
       "13  Commute Distance_1     0.025254\n",
       "16  Commute Distance_4     0.024334\n",
       "9         Occupation_4     0.024290\n",
       "8         Occupation_3     0.020490\n",
       "6         Occupation_1     0.015501\n",
       "7         Occupation_2     0.014072"
      ]
     },
     "execution_count": 45,
     "metadata": {},
     "output_type": "execute_result"
    }
   ],
   "source": [
    "features_rf = pd.DataFrame()\n",
    "features_rf['variable'] = X_train.columns\n",
    "features_rf['Importancia'] = model_rf_all.feature_importances_\n",
    "features_rf.sort_values(by = ['Importancia'],ascending=False,inplace = True)\n",
    "features_rf"
   ]
  },
  {
   "cell_type": "code",
   "execution_count": 46,
   "metadata": {},
   "outputs": [
    {
     "data": {
      "text/plain": [
       "<AxesSubplot:xlabel='Importancia', ylabel='variable'>"
      ]
     },
     "execution_count": 46,
     "metadata": {},
     "output_type": "execute_result"
    },
    {
     "data": {
      "image/png": "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",
      "text/plain": [
       "<Figure size 576x432 with 1 Axes>"
      ]
     },
     "metadata": {
      "needs_background": "light"
     },
     "output_type": "display_data"
    }
   ],
   "source": [
    "fig,ax = plt.subplots(1,1,figsize = (8,6))\n",
    "sb.barplot(y='variable',x = 'Importancia',data = features_rf.head(10),\n",
    "           order =features_rf.head(10)['variable'],\n",
    "           ax=ax)"
   ]
  },
  {
   "cell_type": "code",
   "execution_count": 47,
   "metadata": {},
   "outputs": [],
   "source": [
    "def tidy_corr_matrix(corr_mat):\n",
    "    '''\n",
    "    Función para convertir una matrix de correlación de pandas en formato tidy\n",
    "    '''\n",
    "    corr_mat = corr_mat.stack().reset_index()\n",
    "    corr_mat.columns = ['variable_1','variable_2','r']\n",
    "    corr_mat = corr_mat.loc[corr_mat['variable_1'] != corr_mat['variable_2'], :]\n",
    "    corr_mat['abs_r'] = np.abs(corr_mat['r'])\n",
    "    corr_mat = corr_mat.sort_values('abs_r', ascending=False)\n",
    "    \n",
    "    return(corr_mat)"
   ]
  },
  {
   "cell_type": "code",
   "execution_count": 48,
   "metadata": {},
   "outputs": [
    {
     "data": {
      "image/png": "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",
      "text/plain": [
       "<Figure size 720x432 with 2 Axes>"
      ]
     },
     "metadata": {
      "needs_background": "light"
     },
     "output_type": "display_data"
    }
   ],
   "source": [
    "corr_matrix = bikeB3.select_dtypes(include=['float64', 'int']).corr(method='pearson')\n",
    "corr = sb.heatmap(corr_matrix, \n",
    "                   vmax = 1, \n",
    "                   square = True, \n",
    "                   linewidth = 0.5, \n",
    "                   yticklabels = True, \n",
    "                   xticklabels = True, \n",
    "            cbar_kws = {'shrink' : 1}, \n",
    "                   annot = True, \n",
    "                   fmt = '.2f', \n",
    "                   cmap = 'PuBu')\n",
    "corr.figure.set_size_inches(10,6)"
   ]
  },
  {
   "cell_type": "code",
   "execution_count": 49,
   "metadata": {},
   "outputs": [],
   "source": [
    "\n",
    "df_final = bikeB3\n"
   ]
  },
  {
   "cell_type": "code",
   "execution_count": 50,
   "metadata": {},
   "outputs": [],
   "source": [
    "XF = df_final.drop(['Purchased Bike'], axis = 1)\n",
    "YF = df_final['Purchased Bike']"
   ]
  },
  {
   "cell_type": "code",
   "execution_count": 51,
   "metadata": {},
   "outputs": [
    {
     "data": {
      "text/plain": [
       "['Marital Status',\n",
       " 'Gender',\n",
       " 'Occupation',\n",
       " 'Home Owner',\n",
       " 'Region',\n",
       " 'New Commute Distance']"
      ]
     },
     "execution_count": 51,
     "metadata": {},
     "output_type": "execute_result"
    }
   ],
   "source": [
    "categoricas = XF.select_dtypes(include=('object','category')).columns.tolist()\n",
    "numericas = XF.select_dtypes(include=('int64','float64')).columns.tolist()\n",
    "categoricas"
   ]
  },
  {
   "cell_type": "code",
   "execution_count": 52,
   "metadata": {},
   "outputs": [],
   "source": [
    "categorical=pd.get_dummies(XF[categoricas],columns=categoricas,drop_first=True)\n",
    "categorical.columns = ['Marital Status','Gender','Occupation_1','Occupation_2','Occupation_3',\n",
    "'Occupation_4','Home Owner','Region_1','Region_2',\"Commute Distance_1\",\"Commute Distance_2\",\"Commute Distance_3\",\"Commute Distance_4\"]\n",
    "\n",
    "#categorical.columns = ['Marital Status','Gender','Education_1','Education_2','Education_3','Education_4','Occupation_1','Occupation_2','Occupation_3',\n",
    "#'Occupation_4','Home Owner','Region_1','Region_2',\"Commute Distance_1\",\"Commute Distance_2\",\"Commute Distance_3\",\"Commute Distance_4\",\"Con_Hijos\",\"Con_vehiculos\"]\n",
    "\n"
   ]
  },
  {
   "cell_type": "code",
   "execution_count": 53,
   "metadata": {},
   "outputs": [],
   "source": [
    "#opcional?\n",
    "scaler = StandardScaler()\n",
    "numerical = XF[numericas]\n",
    "numerical\n",
    "numerical = pd.DataFrame(scaler.fit_transform(numerical),\n",
    "                         columns=['Income','Children','Car','Age'],index= numerical.index)"
   ]
  },
  {
   "cell_type": "code",
   "execution_count": 54,
   "metadata": {},
   "outputs": [
    {
     "data": {
      "text/html": [
       "<div>\n",
       "<style scoped>\n",
       "    .dataframe tbody tr th:only-of-type {\n",
       "        vertical-align: middle;\n",
       "    }\n",
       "\n",
       "    .dataframe tbody tr th {\n",
       "        vertical-align: top;\n",
       "    }\n",
       "\n",
       "    .dataframe thead th {\n",
       "        text-align: right;\n",
       "    }\n",
       "</style>\n",
       "<table border=\"1\" class=\"dataframe\">\n",
       "  <thead>\n",
       "    <tr style=\"text-align: right;\">\n",
       "      <th></th>\n",
       "      <th>Income</th>\n",
       "      <th>Children</th>\n",
       "      <th>Car</th>\n",
       "      <th>Age</th>\n",
       "      <th>Marital Status</th>\n",
       "      <th>Gender</th>\n",
       "      <th>Occupation_1</th>\n",
       "      <th>Occupation_2</th>\n",
       "      <th>Occupation_3</th>\n",
       "      <th>Occupation_4</th>\n",
       "      <th>Home Owner</th>\n",
       "      <th>Region_1</th>\n",
       "      <th>Region_2</th>\n",
       "      <th>Commute Distance_1</th>\n",
       "      <th>Commute Distance_2</th>\n",
       "      <th>Commute Distance_3</th>\n",
       "      <th>Commute Distance_4</th>\n",
       "    </tr>\n",
       "  </thead>\n",
       "  <tbody>\n",
       "    <tr>\n",
       "      <th>0</th>\n",
       "      <td>-0.462282</td>\n",
       "      <td>-0.548727</td>\n",
       "      <td>-1.292784</td>\n",
       "      <td>-0.159257</td>\n",
       "      <td>0</td>\n",
       "      <td>0</td>\n",
       "      <td>0</td>\n",
       "      <td>0</td>\n",
       "      <td>0</td>\n",
       "      <td>1</td>\n",
       "      <td>1</td>\n",
       "      <td>0</td>\n",
       "      <td>0</td>\n",
       "      <td>0</td>\n",
       "      <td>1</td>\n",
       "      <td>0</td>\n",
       "      <td>0</td>\n",
       "    </tr>\n",
       "    <tr>\n",
       "      <th>1</th>\n",
       "      <td>-0.862614</td>\n",
       "      <td>0.675457</td>\n",
       "      <td>-0.342715</td>\n",
       "      <td>-0.069687</td>\n",
       "      <td>0</td>\n",
       "      <td>1</td>\n",
       "      <td>0</td>\n",
       "      <td>0</td>\n",
       "      <td>0</td>\n",
       "      <td>0</td>\n",
       "      <td>1</td>\n",
       "      <td>0</td>\n",
       "      <td>0</td>\n",
       "      <td>0</td>\n",
       "      <td>1</td>\n",
       "      <td>0</td>\n",
       "      <td>0</td>\n",
       "    </tr>\n",
       "    <tr>\n",
       "      <th>2</th>\n",
       "      <td>1.139043</td>\n",
       "      <td>1.899640</td>\n",
       "      <td>0.607355</td>\n",
       "      <td>1.453007</td>\n",
       "      <td>0</td>\n",
       "      <td>1</td>\n",
       "      <td>0</td>\n",
       "      <td>0</td>\n",
       "      <td>1</td>\n",
       "      <td>0</td>\n",
       "      <td>0</td>\n",
       "      <td>0</td>\n",
       "      <td>0</td>\n",
       "      <td>0</td>\n",
       "      <td>0</td>\n",
       "      <td>1</td>\n",
       "      <td>0</td>\n",
       "    </tr>\n",
       "    <tr>\n",
       "      <th>3</th>\n",
       "      <td>0.738712</td>\n",
       "      <td>-1.160819</td>\n",
       "      <td>-0.342715</td>\n",
       "      <td>-0.248827</td>\n",
       "      <td>1</td>\n",
       "      <td>0</td>\n",
       "      <td>0</td>\n",
       "      <td>0</td>\n",
       "      <td>1</td>\n",
       "      <td>0</td>\n",
       "      <td>1</td>\n",
       "      <td>0</td>\n",
       "      <td>1</td>\n",
       "      <td>1</td>\n",
       "      <td>0</td>\n",
       "      <td>0</td>\n",
       "      <td>0</td>\n",
       "    </tr>\n",
       "    <tr>\n",
       "      <th>4</th>\n",
       "      <td>-0.862614</td>\n",
       "      <td>-1.160819</td>\n",
       "      <td>-1.292784</td>\n",
       "      <td>-0.696678</td>\n",
       "      <td>1</td>\n",
       "      <td>1</td>\n",
       "      <td>0</td>\n",
       "      <td>0</td>\n",
       "      <td>0</td>\n",
       "      <td>0</td>\n",
       "      <td>0</td>\n",
       "      <td>0</td>\n",
       "      <td>0</td>\n",
       "      <td>0</td>\n",
       "      <td>1</td>\n",
       "      <td>0</td>\n",
       "      <td>0</td>\n",
       "    </tr>\n",
       "  </tbody>\n",
       "</table>\n",
       "</div>"
      ],
      "text/plain": [
       "     Income  Children       Car       Age  Marital Status  Gender  \\\n",
       "0 -0.462282 -0.548727 -1.292784 -0.159257               0       0   \n",
       "1 -0.862614  0.675457 -0.342715 -0.069687               0       1   \n",
       "2  1.139043  1.899640  0.607355  1.453007               0       1   \n",
       "3  0.738712 -1.160819 -0.342715 -0.248827               1       0   \n",
       "4 -0.862614 -1.160819 -1.292784 -0.696678               1       1   \n",
       "\n",
       "   Occupation_1  Occupation_2  Occupation_3  Occupation_4  Home Owner  \\\n",
       "0             0             0             0             1           1   \n",
       "1             0             0             0             0           1   \n",
       "2             0             0             1             0           0   \n",
       "3             0             0             1             0           1   \n",
       "4             0             0             0             0           0   \n",
       "\n",
       "   Region_1  Region_2  Commute Distance_1  Commute Distance_2  \\\n",
       "0         0         0                   0                   1   \n",
       "1         0         0                   0                   1   \n",
       "2         0         0                   0                   0   \n",
       "3         0         1                   1                   0   \n",
       "4         0         0                   0                   1   \n",
       "\n",
       "   Commute Distance_3  Commute Distance_4  \n",
       "0                   0                   0  \n",
       "1                   0                   0  \n",
       "2                   1                   0  \n",
       "3                   0                   0  \n",
       "4                   0                   0  "
      ]
     },
     "execution_count": 54,
     "metadata": {},
     "output_type": "execute_result"
    }
   ],
   "source": [
    "preprocessed_data = pd.merge(numerical, categorical, left_index=True, right_index=True)\n",
    "preprocessed_data.head()"
   ]
  },
  {
   "cell_type": "code",
   "execution_count": 55,
   "metadata": {},
   "outputs": [],
   "source": [
    "X_train, X_test, y_train, y_test = train_test_split(preprocessed_data,YF,train_size = 0.8,random_state = 20,stratify = YF)"
   ]
  },
  {
   "cell_type": "code",
   "execution_count": 56,
   "metadata": {},
   "outputs": [],
   "source": [
    "rl = LogisticRegression(max_iter = 250, # Número máximo de iteraciones \n",
    "                        C = 0.5,        # Inverso de la fuerza de regularización\n",
    "                        penalty='l2',\n",
    "                        solver = 'sag') # Penalización admitida L2"
   ]
  },
  {
   "cell_type": "code",
   "execution_count": 57,
   "metadata": {},
   "outputs": [
    {
     "name": "stdout",
     "output_type": "stream",
     "text": [
      "Todos los scores: [0.6        0.64       0.65333333 0.59333333 0.66442953]\n",
      "Promedio de los scores: 0.6302192393736018\n"
     ]
    }
   ],
   "source": [
    "skf = StratifiedKFold(n_splits= 5,shuffle=True, random_state = 49)\n",
    "cross_val = cross_val_score(cv = skf,\n",
    "                           estimator = rl,# Modelo\n",
    "                           X=X_train,\n",
    "                           y=y_train, \n",
    "                           scoring = 'accuracy') # 'auc_roc'\n",
    "\n",
    "print(\"Todos los scores:\",cross_val)\n",
    "print(\"Promedio de los scores:\",np.mean(cross_val))"
   ]
  },
  {
   "cell_type": "code",
   "execution_count": 58,
   "metadata": {},
   "outputs": [
    {
     "name": "stderr",
     "output_type": "stream",
     "text": [
      "c:\\Users\\karim\\anaconda3\\lib\\site-packages\\seaborn\\distributions.py:2619: FutureWarning: `distplot` is a deprecated function and will be removed in a future version. Please adapt your code to use either `displot` (a figure-level function with similar flexibility) or `histplot` (an axes-level function for histograms).\n",
      "  warnings.warn(msg, FutureWarning)\n"
     ]
    },
    {
     "data": {
      "image/png": "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",
      "text/plain": [
       "<Figure size 432x288 with 1 Axes>"
      ]
     },
     "metadata": {
      "needs_background": "light"
     },
     "output_type": "display_data"
    }
   ],
   "source": [
    "cv_score_rl = cross_val_score(rl, X_train, y_train, cv=skf, scoring='accuracy', n_jobs=1)\n",
    "sb.distplot(cv_score_rl, color='#f2209c')\n",
    "plt.savefig('Xval_logreg.png', bbox_inches='tight')"
   ]
  },
  {
   "cell_type": "code",
   "execution_count": 59,
   "metadata": {},
   "outputs": [
    {
     "data": {
      "text/plain": [
       "LogisticRegression(C=0.5, max_iter=250, solver='sag')"
      ]
     },
     "execution_count": 59,
     "metadata": {},
     "output_type": "execute_result"
    }
   ],
   "source": [
    "rl.fit(X_train, y_train) "
   ]
  },
  {
   "cell_type": "code",
   "execution_count": 60,
   "metadata": {},
   "outputs": [],
   "source": [
    "y_pred_train=rl.predict(X_train) # Prediccion sobre el train\n",
    "y_pred_test=rl.predict(X_test) # Prediccion sobre el test"
   ]
  },
  {
   "cell_type": "code",
   "execution_count": 61,
   "metadata": {},
   "outputs": [
    {
     "data": {
      "text/plain": [
       "(array([21., 27., 16., 30., 24., 24., 19., 17.,  8.,  2.]),\n",
       " array([0.21647991, 0.28437437, 0.35226882, 0.42016328, 0.48805773,\n",
       "        0.55595219, 0.62384664, 0.6917411 , 0.75963555, 0.82753001,\n",
       "        0.89542446]),\n",
       " <BarContainer object of 10 artists>)"
      ]
     },
     "execution_count": 61,
     "metadata": {},
     "output_type": "execute_result"
    },
    {
     "data": {
      "image/png": "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",
      "text/plain": [
       "<Figure size 432x288 with 1 Axes>"
      ]
     },
     "metadata": {
      "needs_background": "light"
     },
     "output_type": "display_data"
    }
   ],
   "source": [
    "prob_test_rl = rl.predict_proba(X_test)[:,1]\n",
    "plt.hist(prob_test_rl, color = '#ea068d', rwidth=0.9)\n",
    "#plt.savefig('Probabilidades_logreg.png', bbox_inches='tight')"
   ]
  },
  {
   "cell_type": "code",
   "execution_count": 62,
   "metadata": {},
   "outputs": [
    {
     "data": {
      "text/plain": [
       "(array([ 20.,  60.,  84., 121., 130., 106., 120.,  65.,  32.,  11.]),\n",
       " array([0.09527972, 0.17633901, 0.25739829, 0.33845757, 0.41951685,\n",
       "        0.50057614, 0.58163542, 0.6626947 , 0.74375398, 0.82481327,\n",
       "        0.90587255]),\n",
       " <BarContainer object of 10 artists>)"
      ]
     },
     "execution_count": 62,
     "metadata": {},
     "output_type": "execute_result"
    },
    {
     "data": {
      "image/png": "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",
      "text/plain": [
       "<Figure size 432x288 with 1 Axes>"
      ]
     },
     "metadata": {
      "needs_background": "light"
     },
     "output_type": "display_data"
    }
   ],
   "source": [
    "prob_train_rl = rl.predict_proba(X_train)[:,1]\n",
    "plt.hist(prob_train_rl, color = '#ff74c6', rwidth=0.9)\n",
    "#plt.savefig('Probabilidades_train_logreg.png', bbox_inches='tight')"
   ]
  },
  {
   "cell_type": "code",
   "execution_count": 63,
   "metadata": {},
   "outputs": [],
   "source": [
    "#MATRIZ DE CONFU\n",
    "## Funciones\n",
    "def print_mc(matriz_conf):\n",
    "    matriz_conf = pd.DataFrame(matriz_conf)\n",
    "    matriz_conf.index = [\"Real_0\",\"Real_1\"]\n",
    "    matriz_conf.columns = [\"Pred_0\",\"Pred_1\"]\n",
    "    print(matriz_conf)\n",
    "    \n",
    "def fx_evaluate_classif(y_real, pred, pred_proba):\n",
    "    from sklearn import metrics as mt\n",
    "    matriz_conf = mt.confusion_matrix(y_real,pred)\n",
    "    print_mc(matriz_conf)\n",
    "    roc = mt.roc_auc_score(y_real,pred_proba)\n",
    "    accuracy_real = mt.accuracy_score(y_real,pred)\n",
    "    print(\"\\nROC: \", roc) \n",
    "    print(\"Accu:\", accuracy_real,'\\n')\n",
    "    print(mt.classification_report(y_real, pred)[0:163])"
   ]
  },
  {
   "cell_type": "code",
   "execution_count": 64,
   "metadata": {},
   "outputs": [
    {
     "name": "stdout",
     "output_type": "stream",
     "text": [
      "Metricas del Testing...\n",
      "\n",
      "        Pred_0  Pred_1\n",
      "Real_0      68      30\n",
      "Real_1      30      60\n",
      "\n",
      "ROC:  0.7312925170068026\n",
      "Accu: 0.6808510638297872 \n",
      "\n",
      "              precision    recall  f1-score   support\n",
      "\n",
      "           0       0.69      0.69      0.69        98\n",
      "           1       0.67      0.67      0.67        90\n",
      "\n"
     ]
    }
   ],
   "source": [
    "print(\"Metricas del Testing...\" + \"\\n\")\n",
    "fx_evaluate_classif(y_test, y_pred_test, prob_test_rl)"
   ]
  },
  {
   "cell_type": "code",
   "execution_count": 65,
   "metadata": {},
   "outputs": [
    {
     "data": {
      "image/png": "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",
      "text/plain": [
       "<Figure size 432x288 with 1 Axes>"
      ]
     },
     "metadata": {
      "needs_background": "light"
     },
     "output_type": "display_data"
    }
   ],
   "source": [
    "mat_logreg = confusion_matrix(y_test, y_pred_test)\n",
    "sb.heatmap(mat_logreg, annot=True, fmt='d',cmap='nipy_spectral', square=True, cbar=False, annot_kws = {'size' : 20})\n",
    "plt.ylabel('Actual')\n",
    "plt.xlabel('Predicted')\n",
    "plt.savefig('Confusion_matrix_logreg.png', bbox_inches='tight')"
   ]
  },
  {
   "cell_type": "code",
   "execution_count": 66,
   "metadata": {},
   "outputs": [
    {
     "data": {
      "text/plain": [
       "0.7312925170068026"
      ]
     },
     "execution_count": 66,
     "metadata": {},
     "output_type": "execute_result"
    }
   ],
   "source": [
    "auc_rl = metrics.roc_auc_score(y_test, prob_test_rl)\n",
    "auc_rl"
   ]
  },
  {
   "cell_type": "code",
   "execution_count": 67,
   "metadata": {},
   "outputs": [
    {
     "data": {
      "text/plain": [
       "<matplotlib.legend.Legend at 0x297c39e6be0>"
      ]
     },
     "execution_count": 67,
     "metadata": {},
     "output_type": "execute_result"
    },
    {
     "data": {
      "image/png": "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",
      "text/plain": [
       "<Figure size 432x288 with 1 Axes>"
      ]
     },
     "metadata": {
      "needs_background": "light"
     },
     "output_type": "display_data"
    }
   ],
   "source": [
    "fpr, tpr, thresholds = metrics.roc_curve(y_test, prob_test_rl)\n",
    "plt.plot(fpr, tpr, label= \"AUC = \" + str(auc_rl.round(3)), color='#ea068d')\n",
    "plt.plot([0, 1], [0, 1], linestyle='--', color='gray')\n",
    "plt.title('ROC CURVE and AUC for Logistic Regression')\n",
    "plt.xlabel('False Positive Rate') \n",
    "plt.ylabel('True Positive Rate')\n",
    "plt.legend(bbox_to_anchor=(.5,-0.23), loc='upper center')\n"
   ]
=======
>>>>>>> c0aff0dc364ddf780165b50de936602fc2e3760a
  }
 ],
 "metadata": {
  "kernelspec": {
   "display_name": "base",
   "language": "python",
   "name": "python3"
  },
  "language_info": {
   "codemirror_mode": {
    "name": "ipython",
    "version": 3
   },
   "file_extension": ".py",
   "mimetype": "text/x-python",
   "name": "python",
   "nbconvert_exporter": "python",
   "pygments_lexer": "ipython3",
   "version": "3.9.7"
  },
  "orig_nbformat": 4
 },
 "nbformat": 4,
 "nbformat_minor": 2
}
