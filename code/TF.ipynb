{
 "cells": [
  {
   "cell_type": "code",
   "execution_count": 1,
   "metadata": {},
   "outputs": [],
   "source": [
    "import pandas as pd\n",
    "import seaborn as sb\n",
    "import matplotlib.pyplot as plt\n",
    "import numpy as np\n",
    "%matplotlib inline"
   ]
  },
  {
   "cell_type": "code",
   "execution_count": 2,
   "metadata": {},
   "outputs": [],
   "source": [
    "bikeB = pd.read_csv(\"bike_buyers.csv\")"
   ]
  },
  {
   "cell_type": "code",
   "execution_count": 3,
   "metadata": {},
   "outputs": [
    {
     "data": {
      "text/html": [
       "<div>\n",
       "<style scoped>\n",
       "    .dataframe tbody tr th:only-of-type {\n",
       "        vertical-align: middle;\n",
       "    }\n",
       "\n",
       "    .dataframe tbody tr th {\n",
       "        vertical-align: top;\n",
       "    }\n",
       "\n",
       "    .dataframe thead th {\n",
       "        text-align: right;\n",
       "    }\n",
       "</style>\n",
       "<table border=\"1\" class=\"dataframe\">\n",
       "  <thead>\n",
       "    <tr style=\"text-align: right;\">\n",
       "      <th></th>\n",
       "      <th>ID</th>\n",
       "      <th>Marital Status</th>\n",
       "      <th>Gender</th>\n",
       "      <th>Income</th>\n",
       "      <th>Children</th>\n",
       "      <th>Education</th>\n",
       "      <th>Occupation</th>\n",
       "      <th>Home Owner</th>\n",
       "      <th>Cars</th>\n",
       "      <th>Commute Distance</th>\n",
       "      <th>Region</th>\n",
       "      <th>Age</th>\n",
       "      <th>Purchased Bike</th>\n",
       "    </tr>\n",
       "  </thead>\n",
       "  <tbody>\n",
       "    <tr>\n",
       "      <th>0</th>\n",
       "      <td>12496</td>\n",
       "      <td>Married</td>\n",
       "      <td>Female</td>\n",
       "      <td>40000.0</td>\n",
       "      <td>1.0</td>\n",
       "      <td>Bachelors</td>\n",
       "      <td>Skilled Manual</td>\n",
       "      <td>Yes</td>\n",
       "      <td>0.0</td>\n",
       "      <td>0-1 Miles</td>\n",
       "      <td>Europe</td>\n",
       "      <td>42.0</td>\n",
       "      <td>No</td>\n",
       "    </tr>\n",
       "    <tr>\n",
       "      <th>1</th>\n",
       "      <td>24107</td>\n",
       "      <td>Married</td>\n",
       "      <td>Male</td>\n",
       "      <td>30000.0</td>\n",
       "      <td>3.0</td>\n",
       "      <td>Partial College</td>\n",
       "      <td>Clerical</td>\n",
       "      <td>Yes</td>\n",
       "      <td>1.0</td>\n",
       "      <td>0-1 Miles</td>\n",
       "      <td>Europe</td>\n",
       "      <td>43.0</td>\n",
       "      <td>No</td>\n",
       "    </tr>\n",
       "    <tr>\n",
       "      <th>2</th>\n",
       "      <td>14177</td>\n",
       "      <td>Married</td>\n",
       "      <td>Male</td>\n",
       "      <td>80000.0</td>\n",
       "      <td>5.0</td>\n",
       "      <td>Partial College</td>\n",
       "      <td>Professional</td>\n",
       "      <td>No</td>\n",
       "      <td>2.0</td>\n",
       "      <td>2-5 Miles</td>\n",
       "      <td>Europe</td>\n",
       "      <td>60.0</td>\n",
       "      <td>No</td>\n",
       "    </tr>\n",
       "    <tr>\n",
       "      <th>3</th>\n",
       "      <td>24381</td>\n",
       "      <td>Single</td>\n",
       "      <td>NaN</td>\n",
       "      <td>70000.0</td>\n",
       "      <td>0.0</td>\n",
       "      <td>Bachelors</td>\n",
       "      <td>Professional</td>\n",
       "      <td>Yes</td>\n",
       "      <td>1.0</td>\n",
       "      <td>5-10 Miles</td>\n",
       "      <td>Pacific</td>\n",
       "      <td>41.0</td>\n",
       "      <td>Yes</td>\n",
       "    </tr>\n",
       "    <tr>\n",
       "      <th>4</th>\n",
       "      <td>25597</td>\n",
       "      <td>Single</td>\n",
       "      <td>Male</td>\n",
       "      <td>30000.0</td>\n",
       "      <td>0.0</td>\n",
       "      <td>Bachelors</td>\n",
       "      <td>Clerical</td>\n",
       "      <td>No</td>\n",
       "      <td>0.0</td>\n",
       "      <td>0-1 Miles</td>\n",
       "      <td>Europe</td>\n",
       "      <td>36.0</td>\n",
       "      <td>Yes</td>\n",
       "    </tr>\n",
       "    <tr>\n",
       "      <th>...</th>\n",
       "      <td>...</td>\n",
       "      <td>...</td>\n",
       "      <td>...</td>\n",
       "      <td>...</td>\n",
       "      <td>...</td>\n",
       "      <td>...</td>\n",
       "      <td>...</td>\n",
       "      <td>...</td>\n",
       "      <td>...</td>\n",
       "      <td>...</td>\n",
       "      <td>...</td>\n",
       "      <td>...</td>\n",
       "      <td>...</td>\n",
       "    </tr>\n",
       "    <tr>\n",
       "      <th>995</th>\n",
       "      <td>23731</td>\n",
       "      <td>Married</td>\n",
       "      <td>Male</td>\n",
       "      <td>60000.0</td>\n",
       "      <td>2.0</td>\n",
       "      <td>High School</td>\n",
       "      <td>Professional</td>\n",
       "      <td>Yes</td>\n",
       "      <td>2.0</td>\n",
       "      <td>2-5 Miles</td>\n",
       "      <td>North America</td>\n",
       "      <td>54.0</td>\n",
       "      <td>Yes</td>\n",
       "    </tr>\n",
       "    <tr>\n",
       "      <th>996</th>\n",
       "      <td>28672</td>\n",
       "      <td>Single</td>\n",
       "      <td>Male</td>\n",
       "      <td>70000.0</td>\n",
       "      <td>4.0</td>\n",
       "      <td>Graduate Degree</td>\n",
       "      <td>Professional</td>\n",
       "      <td>Yes</td>\n",
       "      <td>0.0</td>\n",
       "      <td>2-5 Miles</td>\n",
       "      <td>North America</td>\n",
       "      <td>35.0</td>\n",
       "      <td>Yes</td>\n",
       "    </tr>\n",
       "    <tr>\n",
       "      <th>997</th>\n",
       "      <td>11809</td>\n",
       "      <td>Married</td>\n",
       "      <td>NaN</td>\n",
       "      <td>60000.0</td>\n",
       "      <td>2.0</td>\n",
       "      <td>Bachelors</td>\n",
       "      <td>Skilled Manual</td>\n",
       "      <td>Yes</td>\n",
       "      <td>0.0</td>\n",
       "      <td>0-1 Miles</td>\n",
       "      <td>North America</td>\n",
       "      <td>38.0</td>\n",
       "      <td>Yes</td>\n",
       "    </tr>\n",
       "    <tr>\n",
       "      <th>998</th>\n",
       "      <td>19664</td>\n",
       "      <td>Single</td>\n",
       "      <td>Male</td>\n",
       "      <td>100000.0</td>\n",
       "      <td>3.0</td>\n",
       "      <td>Bachelors</td>\n",
       "      <td>Management</td>\n",
       "      <td>No</td>\n",
       "      <td>3.0</td>\n",
       "      <td>1-2 Miles</td>\n",
       "      <td>North America</td>\n",
       "      <td>38.0</td>\n",
       "      <td>No</td>\n",
       "    </tr>\n",
       "    <tr>\n",
       "      <th>999</th>\n",
       "      <td>12121</td>\n",
       "      <td>Single</td>\n",
       "      <td>Male</td>\n",
       "      <td>60000.0</td>\n",
       "      <td>3.0</td>\n",
       "      <td>High School</td>\n",
       "      <td>Professional</td>\n",
       "      <td>Yes</td>\n",
       "      <td>2.0</td>\n",
       "      <td>10+ Miles</td>\n",
       "      <td>North America</td>\n",
       "      <td>53.0</td>\n",
       "      <td>Yes</td>\n",
       "    </tr>\n",
       "  </tbody>\n",
       "</table>\n",
       "<p>1000 rows × 13 columns</p>\n",
       "</div>"
      ],
      "text/plain": [
       "        ID Marital Status  Gender    Income  Children        Education  \\\n",
       "0    12496        Married  Female   40000.0       1.0        Bachelors   \n",
       "1    24107        Married    Male   30000.0       3.0  Partial College   \n",
       "2    14177        Married    Male   80000.0       5.0  Partial College   \n",
       "3    24381         Single     NaN   70000.0       0.0        Bachelors   \n",
       "4    25597         Single    Male   30000.0       0.0        Bachelors   \n",
       "..     ...            ...     ...       ...       ...              ...   \n",
       "995  23731        Married    Male   60000.0       2.0      High School   \n",
       "996  28672         Single    Male   70000.0       4.0  Graduate Degree   \n",
       "997  11809        Married     NaN   60000.0       2.0        Bachelors   \n",
       "998  19664         Single    Male  100000.0       3.0        Bachelors   \n",
       "999  12121         Single    Male   60000.0       3.0      High School   \n",
       "\n",
       "         Occupation Home Owner  Cars Commute Distance         Region   Age  \\\n",
       "0    Skilled Manual        Yes   0.0        0-1 Miles         Europe  42.0   \n",
       "1          Clerical        Yes   1.0        0-1 Miles         Europe  43.0   \n",
       "2      Professional         No   2.0        2-5 Miles         Europe  60.0   \n",
       "3      Professional        Yes   1.0       5-10 Miles        Pacific  41.0   \n",
       "4          Clerical         No   0.0        0-1 Miles         Europe  36.0   \n",
       "..              ...        ...   ...              ...            ...   ...   \n",
       "995    Professional        Yes   2.0        2-5 Miles  North America  54.0   \n",
       "996    Professional        Yes   0.0        2-5 Miles  North America  35.0   \n",
       "997  Skilled Manual        Yes   0.0        0-1 Miles  North America  38.0   \n",
       "998      Management         No   3.0        1-2 Miles  North America  38.0   \n",
       "999    Professional        Yes   2.0        10+ Miles  North America  53.0   \n",
       "\n",
       "    Purchased Bike  \n",
       "0               No  \n",
       "1               No  \n",
       "2               No  \n",
       "3              Yes  \n",
       "4              Yes  \n",
       "..             ...  \n",
       "995            Yes  \n",
       "996            Yes  \n",
       "997            Yes  \n",
       "998             No  \n",
       "999            Yes  \n",
       "\n",
       "[1000 rows x 13 columns]"
      ]
     },
     "execution_count": 3,
     "metadata": {},
     "output_type": "execute_result"
    }
   ],
   "source": [
    "bikeB"
   ]
  },
  {
   "cell_type": "code",
   "execution_count": 4,
   "metadata": {},
   "outputs": [
    {
     "name": "stdout",
     "output_type": "stream",
     "text": [
      "<class 'pandas.core.frame.DataFrame'>\n",
      "RangeIndex: 1000 entries, 0 to 999\n",
      "Data columns (total 13 columns):\n",
      " #   Column            Non-Null Count  Dtype  \n",
      "---  ------            --------------  -----  \n",
      " 0   ID                1000 non-null   int64  \n",
      " 1   Marital Status    993 non-null    object \n",
      " 2   Gender            989 non-null    object \n",
      " 3   Income            994 non-null    float64\n",
      " 4   Children          992 non-null    float64\n",
      " 5   Education         1000 non-null   object \n",
      " 6   Occupation        1000 non-null   object \n",
      " 7   Home Owner        996 non-null    object \n",
      " 8   Cars              991 non-null    float64\n",
      " 9   Commute Distance  1000 non-null   object \n",
      " 10  Region            1000 non-null   object \n",
      " 11  Age               992 non-null    float64\n",
      " 12  Purchased Bike    1000 non-null   object \n",
      "dtypes: float64(4), int64(1), object(8)\n",
      "memory usage: 101.7+ KB\n"
     ]
    }
   ],
   "source": [
    "bikeB.info()\n"
   ]
  },
  {
   "cell_type": "code",
   "execution_count": 5,
   "metadata": {},
   "outputs": [
    {
     "data": {
      "text/plain": [
       "False    1000\n",
       "dtype: int64"
      ]
     },
     "execution_count": 5,
     "metadata": {},
     "output_type": "execute_result"
    }
   ],
   "source": [
    "#No se encontraron datos duplicados\n",
    "bikeB.duplicated().value_counts()"
   ]
  },
  {
   "cell_type": "code",
   "execution_count": 6,
   "metadata": {},
   "outputs": [
    {
     "data": {
      "text/plain": [
       "<AxesSubplot:xlabel='Marital Status', ylabel='Income'>"
      ]
     },
     "execution_count": 6,
     "metadata": {},
     "output_type": "execute_result"
    },
    {
     "data": {
      "image/png": "[encoded data removed]",
      "text/plain": [
       "<Figure size 432x288 with 1 Axes>"
      ]
     },
     "metadata": {
      "needs_background": "light"
     },
     "output_type": "display_data"
    }
   ],
   "source": [
    "sb.boxplot(x=\"Marital Status\",y=\"Income\",data=bikeB)"
   ]
  },
  {
   "cell_type": "code",
   "execution_count": 7,
   "metadata": {},
   "outputs": [],
   "source": [
    "#Limpieza de la columna gender\n",
    "bikeB2 =bikeB.copy()\n",
    "\n",
    "#L = list()\n",
    "#L=bikeB2[bikeB2[\"Gender\"].isnull()][\"ID\"].values\n",
    "\n",
    "bikeB2.loc[bikeB2['Gender'].isna(),\"Gender\"]= [i for i in np.random.choice(bikeB2[bikeB2[\"Gender\"].isnull()==False][\"Gender\"].unique(), bikeB2['Gender'].isna().sum())]\n",
    "\n",
    "#para revisar los datos reemplazados\n",
    "#for ID in L:\n",
    "  # print (bikeB2[bikeB2[\"ID\"]==ID][\"Gender\"])\n",
    "\n",
    "#bikeB.iloc[99][\"Gender\"]"
   ]
  },
  {
   "cell_type": "code",
   "execution_count": 8,
   "metadata": {},
   "outputs": [],
   "source": [
    "#Limpieza de la Columna Edad\n",
    "bikeB2[\"Age\"]=bikeB2[\"Age\"].fillna(value=bikeB2[\"Age\"].median())\n",
    "\n",
    "#bikeB2.info()"
   ]
  },
  {
   "cell_type": "code",
   "execution_count": 9,
   "metadata": {},
   "outputs": [],
   "source": [
    "#Limpieza de la columna Income\n",
    "bikeB2[\"Income\"]=bikeB2[\"Income\"].fillna(value=bikeB2[\"Income\"].median())\n",
    "#ya que hay datos atipicos\n"
   ]
  },
  {
   "cell_type": "code",
   "execution_count": 10,
   "metadata": {},
   "outputs": [],
   "source": [
    "#Limpieza de la columna Children\n",
    "\n",
    "bikeB2.loc[bikeB2[\"Children\"].isna(),\"Children\"]= [i for i in np.random.choice([0,1,2,3,4,5], bikeB2[\"Children\"].isna().sum())]\n"
   ]
  },
  {
   "cell_type": "code",
   "execution_count": 11,
   "metadata": {},
   "outputs": [],
   "source": [
    "#Limpieza de la columna Marital Status\n",
    "bikeB2.loc[bikeB2[\"Marital Status\"].isna(),\"Marital Status\"]= [i for i in np.random.choice(bikeB2[bikeB2[\"Marital Status\"].isnull()==False][\"Marital Status\"].unique(), bikeB2['Marital Status'].isna().sum())]\n"
   ]
  },
  {
   "cell_type": "code",
   "execution_count": 12,
   "metadata": {},
   "outputs": [],
   "source": [
    "#Limpieza de la columna Car\n",
    "bikeB2.loc[bikeB2[\"Cars\"].isna(),\"Cars\"]= [i for i in np.random.choice([0,1,2,3,4], bikeB2[\"Cars\"].isna().sum())]"
   ]
  },
  {
   "cell_type": "code",
   "execution_count": 13,
   "metadata": {},
   "outputs": [],
   "source": [
    "#Limpieza de la columna HomeOwner\n",
    "bikeB2.loc[bikeB2[\"Home Owner\"].isna(),\"Home Owner\"]=[i for i in np.random.choice(bikeB2[bikeB2[\"Home Owner\"].isnull()==False][\"Home Owner\"].unique(), bikeB2[\"Home Owner\"].isna().sum())]\n"
   ]
  },
  {
   "cell_type": "code",
   "execution_count": 14,
   "metadata": {},
   "outputs": [],
   "source": [
    "# Segmentar Commute Distance\n",
    "\n",
    "#['0-1 Miles', '2-5 Miles', '5-10 Miles', '1-2 Miles', '10+ Miles']\n",
    "\n",
    "bikeB2[\"New Commute Distance\"] = bikeB2[\"Commute Distance\"].replace({\"0-1 Miles\":\"Minimal\",\"1-2 Miles\":\"Short\",\"2-5 Miles\":\"Moderate\",\"5-10 Miles\":\"Long\",\"10+ Miles\":\"Extensive\"})\n"
   ]
  },
  {
   "cell_type": "code",
   "execution_count": 15,
   "metadata": {},
   "outputs": [
    {
     "data": {
      "text/html": [
       "<div>\n",
       "<style scoped>\n",
       "    .dataframe tbody tr th:only-of-type {\n",
       "        vertical-align: middle;\n",
       "    }\n",
       "\n",
       "    .dataframe tbody tr th {\n",
       "        vertical-align: top;\n",
       "    }\n",
       "\n",
       "    .dataframe thead th {\n",
       "        text-align: right;\n",
       "    }\n",
       "</style>\n",
       "<table border=\"1\" class=\"dataframe\">\n",
       "  <thead>\n",
       "    <tr style=\"text-align: right;\">\n",
       "      <th></th>\n",
       "      <th>Income</th>\n",
       "    </tr>\n",
       "    <tr>\n",
       "      <th>Purchased Bike</th>\n",
       "      <th></th>\n",
       "    </tr>\n",
       "  </thead>\n",
       "  <tbody>\n",
       "    <tr>\n",
       "      <th>No</th>\n",
       "      <td>54874.759152</td>\n",
       "    </tr>\n",
       "    <tr>\n",
       "      <th>Yes</th>\n",
       "      <td>57817.047817</td>\n",
       "    </tr>\n",
       "  </tbody>\n",
       "</table>\n",
       "</div>"
      ],
      "text/plain": [
       "                      Income\n",
       "Purchased Bike              \n",
       "No              54874.759152\n",
       "Yes             57817.047817"
      ]
     },
     "execution_count": 15,
     "metadata": {},
     "output_type": "execute_result"
    }
   ],
   "source": [
    "#¿Cuánto es el promedio de ingresos de acuerdo con si la bicicleta fue comprada o no por el cliente?\n",
    "\n",
    "MeanIncomePB=bikeB2[[\"Income\",\"Purchased Bike\"]].groupby(\"Purchased Bike\")\n",
    "MeanIncomePB.mean()"
   ]
  },
  {
   "cell_type": "code",
   "execution_count": 16,
   "metadata": {},
   "outputs": [
    {
     "data": {
      "text/html": [
       "<div>\n",
       "<style scoped>\n",
       "    .dataframe tbody tr th:only-of-type {\n",
       "        vertical-align: middle;\n",
       "    }\n",
       "\n",
       "    .dataframe tbody tr th {\n",
       "        vertical-align: top;\n",
       "    }\n",
       "\n",
       "    .dataframe thead th {\n",
       "        text-align: right;\n",
       "    }\n",
       "</style>\n",
       "<table border=\"1\" class=\"dataframe\">\n",
       "  <thead>\n",
       "    <tr style=\"text-align: right;\">\n",
       "      <th></th>\n",
       "      <th>Income</th>\n",
       "    </tr>\n",
       "    <tr>\n",
       "      <th>Marital Status</th>\n",
       "      <th></th>\n",
       "    </tr>\n",
       "  </thead>\n",
       "  <tbody>\n",
       "    <tr>\n",
       "      <th>Married</th>\n",
       "      <td>58627.087199</td>\n",
       "    </tr>\n",
       "    <tr>\n",
       "      <th>Single</th>\n",
       "      <td>53557.483731</td>\n",
       "    </tr>\n",
       "  </tbody>\n",
       "</table>\n",
       "</div>"
      ],
      "text/plain": [
       "                      Income\n",
       "Marital Status              \n",
       "Married         58627.087199\n",
       "Single          53557.483731"
      ]
     },
     "execution_count": 16,
     "metadata": {},
     "output_type": "execute_result"
    }
   ],
   "source": [
    "#¿Cuánto es el promedio de ingresos según el estado civil del cliente?\n",
    "MeanIncomeMS=bikeB2[[\"Income\",\"Marital Status\"]].groupby(\"Marital Status\")\n",
    "MeanIncomeMS.mean()"
   ]
  },
  {
   "cell_type": "code",
   "execution_count": 17,
   "metadata": {},
   "outputs": [],
   "source": [
    "#Creamos una nueva columna que indique con el valor 1 si es que tiene hijos, y el valor 0 si es que no tiene hijos\n",
    "bikeB2[\"Con_Hijos\"]=np.where(bikeB2[\"Children\"]>0,1,0)\n"
   ]
  },
  {
   "cell_type": "code",
   "execution_count": 18,
   "metadata": {},
   "outputs": [
    {
     "data": {
      "text/html": [
       "<div>\n",
       "<style scoped>\n",
       "    .dataframe tbody tr th:only-of-type {\n",
       "        vertical-align: middle;\n",
       "    }\n",
       "\n",
       "    .dataframe tbody tr th {\n",
       "        vertical-align: top;\n",
       "    }\n",
       "\n",
       "    .dataframe thead th {\n",
       "        text-align: right;\n",
       "    }\n",
       "</style>\n",
       "<table border=\"1\" class=\"dataframe\">\n",
       "  <thead>\n",
       "    <tr style=\"text-align: right;\">\n",
       "      <th></th>\n",
       "      <th>Children</th>\n",
       "    </tr>\n",
       "    <tr>\n",
       "      <th>Education</th>\n",
       "      <th></th>\n",
       "    </tr>\n",
       "  </thead>\n",
       "  <tbody>\n",
       "    <tr>\n",
       "      <th>Bachelors</th>\n",
       "      <td>1.960784</td>\n",
       "    </tr>\n",
       "    <tr>\n",
       "      <th>Graduate Degree</th>\n",
       "      <td>2.005747</td>\n",
       "    </tr>\n",
       "    <tr>\n",
       "      <th>High School</th>\n",
       "      <td>1.949721</td>\n",
       "    </tr>\n",
       "    <tr>\n",
       "      <th>Partial College</th>\n",
       "      <td>1.856604</td>\n",
       "    </tr>\n",
       "    <tr>\n",
       "      <th>Partial High School</th>\n",
       "      <td>1.578947</td>\n",
       "    </tr>\n",
       "  </tbody>\n",
       "</table>\n",
       "</div>"
      ],
      "text/plain": [
       "                     Children\n",
       "Education                    \n",
       "Bachelors            1.960784\n",
       "Graduate Degree      2.005747\n",
       "High School          1.949721\n",
       "Partial College      1.856604\n",
       "Partial High School  1.578947"
      ]
     },
     "execution_count": 18,
     "metadata": {},
     "output_type": "execute_result"
    }
   ],
   "source": [
    "Mean_N_hijosXEdu = bikeB2[[\"Children\",\"Education\"]].groupby(\"Education\")\n",
    "Mean_N_hijosXEdu.mean()"
   ]
  },
  {
   "cell_type": "code",
   "execution_count": 19,
   "metadata": {},
   "outputs": [
    {
     "data": {
      "text/plain": [
       "<AxesSubplot:xlabel='Education', ylabel='Children'>"
      ]
     },
     "execution_count": 19,
     "metadata": {},
     "output_type": "execute_result"
    },
    {
     "data": {
      "image/png": "[encoded data removed]",
      "text/plain": [
       "<Figure size 648x360 with 1 Axes>"
      ]
     },
     "metadata": {
      "needs_background": "light"
     },
     "output_type": "display_data"
    }
   ],
   "source": [
    "plt.figure(figsize=(9,5))\n",
    "sb.boxplot(x=\"Education\",y=\"Children\",data=bikeB2,showmeans=True,meanprops={'marker':'o','markerfacecolor':'white','markeredgecolor':'black','markersize':'5'})"
   ]
  },
  {
   "cell_type": "code",
   "execution_count": 20,
   "metadata": {},
   "outputs": [],
   "source": [
    "#Creamos una nueva columna que indique con el valor 1 si es que el cliente tiene vehiculo, y 0 si no tiene\n",
    "bikeB2[\"Con_vehiculo\"]=np.where(bikeB2[\"Cars\"]>0,1,0)"
   ]
  },
  {
   "cell_type": "code",
   "execution_count": 21,
   "metadata": {},
   "outputs": [
    {
     "data": {
      "text/html": [
       "<div>\n",
       "<style scoped>\n",
       "    .dataframe tbody tr th:only-of-type {\n",
       "        vertical-align: middle;\n",
       "    }\n",
       "\n",
       "    .dataframe tbody tr th {\n",
       "        vertical-align: top;\n",
       "    }\n",
       "\n",
       "    .dataframe thead th {\n",
       "        text-align: right;\n",
       "    }\n",
       "</style>\n",
       "<table border=\"1\" class=\"dataframe\">\n",
       "  <thead>\n",
       "    <tr style=\"text-align: right;\">\n",
       "      <th></th>\n",
       "      <th>Cars</th>\n",
       "    </tr>\n",
       "    <tr>\n",
       "      <th>Occupation</th>\n",
       "      <th></th>\n",
       "    </tr>\n",
       "  </thead>\n",
       "  <tbody>\n",
       "    <tr>\n",
       "      <th>Clerical</th>\n",
       "      <td>0.841808</td>\n",
       "    </tr>\n",
       "    <tr>\n",
       "      <th>Management</th>\n",
       "      <td>2.156069</td>\n",
       "    </tr>\n",
       "    <tr>\n",
       "      <th>Manual</th>\n",
       "      <td>1.067227</td>\n",
       "    </tr>\n",
       "    <tr>\n",
       "      <th>Professional</th>\n",
       "      <td>1.713768</td>\n",
       "    </tr>\n",
       "    <tr>\n",
       "      <th>Skilled Manual</th>\n",
       "      <td>1.317647</td>\n",
       "    </tr>\n",
       "  </tbody>\n",
       "</table>\n",
       "</div>"
      ],
      "text/plain": [
       "                    Cars\n",
       "Occupation              \n",
       "Clerical        0.841808\n",
       "Management      2.156069\n",
       "Manual          1.067227\n",
       "Professional    1.713768\n",
       "Skilled Manual  1.317647"
      ]
     },
     "execution_count": 21,
     "metadata": {},
     "output_type": "execute_result"
    }
   ],
   "source": [
    "Mean_VehixCli = bikeB2[[\"Occupation\",\"Cars\"]].groupby(\"Occupation\")\n",
    "Mean_VehixCli.mean()"
   ]
  },
  {
   "cell_type": "code",
   "execution_count": 22,
   "metadata": {},
   "outputs": [
    {
     "data": {
      "text/plain": [
       "<AxesSubplot:xlabel='Occupation', ylabel='Cars'>"
      ]
     },
     "execution_count": 22,
     "metadata": {},
     "output_type": "execute_result"
    },
    {
     "data": {
      "image/png": "[encoded data removed]",
      "text/plain": [
       "<Figure size 432x288 with 1 Axes>"
      ]
     },
     "metadata": {
      "needs_background": "light"
     },
     "output_type": "display_data"
    }
   ],
   "source": [
    "\n",
    "sb.violinplot(x=\"Occupation\",y=\"Cars\",data=bikeB2,cut=0)"
   ]
  },
  {
   "cell_type": "code",
   "execution_count": 23,
   "metadata": {},
   "outputs": [
    {
     "data": {
      "text/html": [
       "<div>\n",
       "<style scoped>\n",
       "    .dataframe tbody tr th:only-of-type {\n",
       "        vertical-align: middle;\n",
       "    }\n",
       "\n",
       "    .dataframe tbody tr th {\n",
       "        vertical-align: top;\n",
       "    }\n",
       "\n",
       "    .dataframe thead th {\n",
       "        text-align: right;\n",
       "    }\n",
       "</style>\n",
       "<table border=\"1\" class=\"dataframe\">\n",
       "  <thead>\n",
       "    <tr style=\"text-align: right;\">\n",
       "      <th></th>\n",
       "      <th>Age</th>\n",
       "    </tr>\n",
       "    <tr>\n",
       "      <th>Home Owner</th>\n",
       "      <th></th>\n",
       "    </tr>\n",
       "  </thead>\n",
       "  <tbody>\n",
       "    <tr>\n",
       "      <th>No</th>\n",
       "      <td>42.294304</td>\n",
       "    </tr>\n",
       "    <tr>\n",
       "      <th>Yes</th>\n",
       "      <td>45.039474</td>\n",
       "    </tr>\n",
       "  </tbody>\n",
       "</table>\n",
       "</div>"
      ],
      "text/plain": [
       "                  Age\n",
       "Home Owner           \n",
       "No          42.294304\n",
       "Yes         45.039474"
      ]
     },
     "execution_count": 23,
     "metadata": {},
     "output_type": "execute_result"
    }
   ],
   "source": [
    "#Promedio de edad de acuerdo si el cliente es o no es dueño de una casa\n",
    "HomeOwnerxAge = bikeB2[[\"Home Owner\",\"Age\"]].groupby(\"Home Owner\")\n",
    "HomeOwnerxAge.mean()\n"
   ]
  },
  {
   "cell_type": "code",
   "execution_count": 24,
   "metadata": {},
   "outputs": [
    {
     "data": {
      "text/plain": [
       "<AxesSubplot:xlabel='Home Owner', ylabel='Age'>"
      ]
     },
     "execution_count": 24,
     "metadata": {},
     "output_type": "execute_result"
    },
    {
     "data": {
      "image/png": "[encoded data removed]",
      "text/plain": [
       "<Figure size 432x288 with 1 Axes>"
      ]
     },
     "metadata": {
      "needs_background": "light"
     },
     "output_type": "display_data"
    }
   ],
   "source": [
    "\n",
    "sb.boxplot(data=bikeB2,x=\"Home Owner\",y=\"Age\",palette=\"Set1\",showmeans=True)\n"
   ]
  },
  {
   "cell_type": "code",
   "execution_count": 25,
   "metadata": {},
   "outputs": [
    {
     "data": {
      "text/plain": [
       "<AxesSubplot:>"
      ]
     },
     "execution_count": 25,
     "metadata": {},
     "output_type": "execute_result"
    },
    {
     "data": {
      "image/png": "[encoded data removed]",
      "text/plain": [
       "<Figure size 432x288 with 2 Axes>"
      ]
     },
     "metadata": {
      "needs_background": "light"
     },
     "output_type": "display_data"
    }
   ],
   "source": [
    "\n",
    "#plt.figure(figsize=(25,5))\n",
    "#sb.countplot(x=\"Income\",data=bikeB2)\n",
    "sb.heatmap(bikeB2.corr(),annot=True,cmap='coolwarm')\n",
    "\n",
    "\n",
    "#sb.pairplot(bikeB2,kind='reg')"
   ]
  },
  {
   "cell_type": "code",
   "execution_count": 26,
   "metadata": {},
   "outputs": [],
   "source": [
    "\n",
    "#bikeB3[bikeB3['Income']<=50000]['Income']=\"Bajo\"\n",
    "#bikeB3[]['Income']=\"Medio\"\n",
    "#bikeB3[]['Income']=\"Alto\"\n",
    "\n"
   ]
  },
  {
   "attachments": {},
   "cell_type": "markdown",
   "metadata": {},
   "source": [
    "MODELADO"
   ]
  },
  {
   "cell_type": "code",
   "execution_count": 27,
   "metadata": {},
   "outputs": [],
   "source": [
    "bikeB3 =bikeB2[(bikeB2['Income']<=110000) &(bikeB2['Age']<=75)].copy()\n",
    "#bikeB3['Income_Log'] = round(np.log(bikeB3['Income']+1),2)\n",
    "bikeB3['Purchased Bike'] = bikeB3['Purchased Bike'].replace({\"Yes\":1,\"No\":0})\n"
   ]
  },
  {
   "cell_type": "code",
   "execution_count": 28,
   "metadata": {},
   "outputs": [],
   "source": [
    "Bike_index = bikeB3[['ID','Purchased Bike']]\n",
    "bikeB3 = bikeB3.drop(['ID'], axis = 1)\n",
    "bikeB3 = bikeB3.drop(['Con_Hijos'], axis = 1)\n",
    "bikeB3 = bikeB3.drop(['Con_vehiculo'], axis = 1)\n",
    "bikeB3 = bikeB3.drop(['Education'], axis = 1)\n",
    "##bikeB3 = bikeB3.drop(['Income'], axis = 1)\n"
   ]
  },
  {
   "cell_type": "code",
   "execution_count": 29,
   "metadata": {},
   "outputs": [],
   "source": [
    "V_numericas= bikeB3.select_dtypes(include=['float64', 'int'])"
   ]
  },
  {
   "cell_type": "code",
   "execution_count": 30,
   "metadata": {},
   "outputs": [],
   "source": [
    "bikeB3 = bikeB3.drop(['Commute Distance'], axis = 1)\n",
    "V_categoricas = bikeB3.select_dtypes(include=['object','category'])"
   ]
  },
  {
   "cell_type": "code",
   "execution_count": 31,
   "metadata": {},
   "outputs": [
    {
     "data": {
      "text/html": [
       "<div>\n",
       "<style scoped>\n",
       "    .dataframe tbody tr th:only-of-type {\n",
       "        vertical-align: middle;\n",
       "    }\n",
       "\n",
       "    .dataframe tbody tr th {\n",
       "        vertical-align: top;\n",
       "    }\n",
       "\n",
       "    .dataframe thead th {\n",
       "        text-align: right;\n",
       "    }\n",
       "</style>\n",
       "<table border=\"1\" class=\"dataframe\">\n",
       "  <thead>\n",
       "    <tr style=\"text-align: right;\">\n",
       "      <th></th>\n",
       "      <th>Marital Status</th>\n",
       "      <th>Gender</th>\n",
       "      <th>Income</th>\n",
       "      <th>Children</th>\n",
       "      <th>Occupation</th>\n",
       "      <th>Home Owner</th>\n",
       "      <th>Cars</th>\n",
       "      <th>Region</th>\n",
       "      <th>Age</th>\n",
       "      <th>Purchased Bike</th>\n",
       "      <th>New Commute Distance</th>\n",
       "    </tr>\n",
       "  </thead>\n",
       "  <tbody>\n",
       "    <tr>\n",
       "      <th>0</th>\n",
       "      <td>Married</td>\n",
       "      <td>Female</td>\n",
       "      <td>40000.0</td>\n",
       "      <td>1.0</td>\n",
       "      <td>Skilled Manual</td>\n",
       "      <td>Yes</td>\n",
       "      <td>0.0</td>\n",
       "      <td>Europe</td>\n",
       "      <td>42.0</td>\n",
       "      <td>0</td>\n",
       "      <td>Minimal</td>\n",
       "    </tr>\n",
       "    <tr>\n",
       "      <th>1</th>\n",
       "      <td>Married</td>\n",
       "      <td>Male</td>\n",
       "      <td>30000.0</td>\n",
       "      <td>3.0</td>\n",
       "      <td>Clerical</td>\n",
       "      <td>Yes</td>\n",
       "      <td>1.0</td>\n",
       "      <td>Europe</td>\n",
       "      <td>43.0</td>\n",
       "      <td>0</td>\n",
       "      <td>Minimal</td>\n",
       "    </tr>\n",
       "    <tr>\n",
       "      <th>2</th>\n",
       "      <td>Married</td>\n",
       "      <td>Male</td>\n",
       "      <td>80000.0</td>\n",
       "      <td>5.0</td>\n",
       "      <td>Professional</td>\n",
       "      <td>No</td>\n",
       "      <td>2.0</td>\n",
       "      <td>Europe</td>\n",
       "      <td>60.0</td>\n",
       "      <td>0</td>\n",
       "      <td>Moderate</td>\n",
       "    </tr>\n",
       "    <tr>\n",
       "      <th>3</th>\n",
       "      <td>Single</td>\n",
       "      <td>Male</td>\n",
       "      <td>70000.0</td>\n",
       "      <td>0.0</td>\n",
       "      <td>Professional</td>\n",
       "      <td>Yes</td>\n",
       "      <td>1.0</td>\n",
       "      <td>Pacific</td>\n",
       "      <td>41.0</td>\n",
       "      <td>1</td>\n",
       "      <td>Long</td>\n",
       "    </tr>\n",
       "    <tr>\n",
       "      <th>4</th>\n",
       "      <td>Single</td>\n",
       "      <td>Male</td>\n",
       "      <td>30000.0</td>\n",
       "      <td>0.0</td>\n",
       "      <td>Clerical</td>\n",
       "      <td>No</td>\n",
       "      <td>0.0</td>\n",
       "      <td>Europe</td>\n",
       "      <td>36.0</td>\n",
       "      <td>1</td>\n",
       "      <td>Minimal</td>\n",
       "    </tr>\n",
       "  </tbody>\n",
       "</table>\n",
       "</div>"
      ],
      "text/plain": [
       "  Marital Status  Gender   Income  Children      Occupation Home Owner  Cars  \\\n",
       "0        Married  Female  40000.0       1.0  Skilled Manual        Yes   0.0   \n",
       "1        Married    Male  30000.0       3.0        Clerical        Yes   1.0   \n",
       "2        Married    Male  80000.0       5.0    Professional         No   2.0   \n",
       "3         Single    Male  70000.0       0.0    Professional        Yes   1.0   \n",
       "4         Single    Male  30000.0       0.0        Clerical         No   0.0   \n",
       "\n",
       "    Region   Age  Purchased Bike New Commute Distance  \n",
       "0   Europe  42.0               0              Minimal  \n",
       "1   Europe  43.0               0              Minimal  \n",
       "2   Europe  60.0               0             Moderate  \n",
       "3  Pacific  41.0               1                 Long  \n",
       "4   Europe  36.0               1              Minimal  "
      ]
     },
     "execution_count": 31,
     "metadata": {},
     "output_type": "execute_result"
    }
   ],
   "source": [
    "#V_categoricas.describe()\n",
    "#V_numericas.describe()\n",
    "bikeB3.head()"
   ]
  },
  {
   "cell_type": "code",
   "execution_count": 32,
   "metadata": {},
   "outputs": [
    {
     "data": {
      "text/plain": [
       "<AxesSubplot:>"
      ]
     },
     "execution_count": 32,
     "metadata": {},
     "output_type": "execute_result"
    },
    {
     "data": {
      "image/png": "[encoded data removed]",
      "text/plain": [
       "<Figure size 432x288 with 2 Axes>"
      ]
     },
     "metadata": {
      "needs_background": "light"
     },
     "output_type": "display_data"
    }
   ],
   "source": [
    "sb.heatmap(bikeB3.corr(),annot=True,cmap='coolwarm')"
   ]
  },
  {
   "cell_type": "code",
   "execution_count": 33,
   "metadata": {},
   "outputs": [],
   "source": [
    "X = bikeB3.drop([\"Purchased Bike\"],axis=1)\n",
    "Y =bikeB3[\"Purchased Bike\"]\n",
    "\n"
   ]
  },
  {
   "cell_type": "code",
   "execution_count": 34,
   "metadata": {},
   "outputs": [],
   "source": [
    "from sklearn.preprocessing import StandardScaler\n",
    "from sklearn.model_selection import train_test_split\n",
    "from sklearn.ensemble import RandomForestClassifier, GradientBoostingClassifier\n",
    "from sklearn.model_selection import cross_val_score\n",
    "from sklearn.model_selection import StratifiedKFold\n",
    "from sklearn.linear_model import LogisticRegression\n",
    "from sklearn.metrics import  roc_curve, auc, silhouette_score, recall_score, precision_score, confusion_matrix, accuracy_score\n",
    "from sklearn import metrics"
   ]
  },
  {
   "cell_type": "code",
   "execution_count": 35,
   "metadata": {},
   "outputs": [
    {
     "data": {
      "text/plain": [
       "['Income', 'Children', 'Cars', 'Age']"
      ]
     },
     "execution_count": 35,
     "metadata": {},
     "output_type": "execute_result"
    }
   ],
   "source": [
    "categoricas = X.select_dtypes(include=('object','category')).columns.tolist()\n",
    "numericas = X.select_dtypes(include=('int64','float64')).columns.tolist()\n",
    "numericas"
   ]
  },
  {
   "cell_type": "code",
   "execution_count": 36,
   "metadata": {},
   "outputs": [],
   "source": [
    "'Con_Hijos','Con_vehiculo'\n",
    "categorical=pd.get_dummies(X[categoricas],columns=categoricas,drop_first=True)\n",
    "categorical.columns = ['Marital Status','Gender','Occupation_1','Occupation_2','Occupation_3',\n",
    "'Occupation_4','Home Owner','Region_1','Region_2',\"Commute Distance_1\",\"Commute Distance_2\",\"Commute Distance_3\",\"Commute Distance_4\"]\n",
    "\n",
    "#categorical.columns = ['Marital Status','Gender','Education_1','Education_2','Education_3','Education_4','Occupation_1','Occupation_2','Occupation_3',\n",
    "#'Occupation_4','Home Owner','Region_1','Region_2',\"Commute Distance_1\",\"Commute Distance_2\",\"Commute Distance_3\",\"Commute Distance_4\",\"Con_Hijos\",\"Con_vehiculo\"]"
   ]
  },
  {
   "cell_type": "code",
   "execution_count": 37,
   "metadata": {},
   "outputs": [
    {
     "data": {
      "text/html": [
       "<div>\n",
       "<style scoped>\n",
       "    .dataframe tbody tr th:only-of-type {\n",
       "        vertical-align: middle;\n",
       "    }\n",
       "\n",
       "    .dataframe tbody tr th {\n",
       "        vertical-align: top;\n",
       "    }\n",
       "\n",
       "    .dataframe thead th {\n",
       "        text-align: right;\n",
       "    }\n",
       "</style>\n",
       "<table border=\"1\" class=\"dataframe\">\n",
       "  <thead>\n",
       "    <tr style=\"text-align: right;\">\n",
       "      <th></th>\n",
       "      <th>Income</th>\n",
       "      <th>Children</th>\n",
       "      <th>Cars</th>\n",
       "      <th>Age</th>\n",
       "      <th>Marital Status</th>\n",
       "      <th>Gender</th>\n",
       "      <th>Occupation_1</th>\n",
       "      <th>Occupation_2</th>\n",
       "      <th>Occupation_3</th>\n",
       "      <th>Occupation_4</th>\n",
       "      <th>Home Owner</th>\n",
       "      <th>Region_1</th>\n",
       "      <th>Region_2</th>\n",
       "      <th>Commute Distance_1</th>\n",
       "      <th>Commute Distance_2</th>\n",
       "      <th>Commute Distance_3</th>\n",
       "      <th>Commute Distance_4</th>\n",
       "    </tr>\n",
       "  </thead>\n",
       "  <tbody>\n",
       "    <tr>\n",
       "      <th>0</th>\n",
       "      <td>40000.0</td>\n",
       "      <td>1.0</td>\n",
       "      <td>0.0</td>\n",
       "      <td>42.0</td>\n",
       "      <td>0</td>\n",
       "      <td>0</td>\n",
       "      <td>0</td>\n",
       "      <td>0</td>\n",
       "      <td>0</td>\n",
       "      <td>1</td>\n",
       "      <td>1</td>\n",
       "      <td>0</td>\n",
       "      <td>0</td>\n",
       "      <td>0</td>\n",
       "      <td>1</td>\n",
       "      <td>0</td>\n",
       "      <td>0</td>\n",
       "    </tr>\n",
       "    <tr>\n",
       "      <th>1</th>\n",
       "      <td>30000.0</td>\n",
       "      <td>3.0</td>\n",
       "      <td>1.0</td>\n",
       "      <td>43.0</td>\n",
       "      <td>0</td>\n",
       "      <td>1</td>\n",
       "      <td>0</td>\n",
       "      <td>0</td>\n",
       "      <td>0</td>\n",
       "      <td>0</td>\n",
       "      <td>1</td>\n",
       "      <td>0</td>\n",
       "      <td>0</td>\n",
       "      <td>0</td>\n",
       "      <td>1</td>\n",
       "      <td>0</td>\n",
       "      <td>0</td>\n",
       "    </tr>\n",
       "    <tr>\n",
       "      <th>2</th>\n",
       "      <td>80000.0</td>\n",
       "      <td>5.0</td>\n",
       "      <td>2.0</td>\n",
       "      <td>60.0</td>\n",
       "      <td>0</td>\n",
       "      <td>1</td>\n",
       "      <td>0</td>\n",
       "      <td>0</td>\n",
       "      <td>1</td>\n",
       "      <td>0</td>\n",
       "      <td>0</td>\n",
       "      <td>0</td>\n",
       "      <td>0</td>\n",
       "      <td>0</td>\n",
       "      <td>0</td>\n",
       "      <td>1</td>\n",
       "      <td>0</td>\n",
       "    </tr>\n",
       "    <tr>\n",
       "      <th>3</th>\n",
       "      <td>70000.0</td>\n",
       "      <td>0.0</td>\n",
       "      <td>1.0</td>\n",
       "      <td>41.0</td>\n",
       "      <td>1</td>\n",
       "      <td>1</td>\n",
       "      <td>0</td>\n",
       "      <td>0</td>\n",
       "      <td>1</td>\n",
       "      <td>0</td>\n",
       "      <td>1</td>\n",
       "      <td>0</td>\n",
       "      <td>1</td>\n",
       "      <td>1</td>\n",
       "      <td>0</td>\n",
       "      <td>0</td>\n",
       "      <td>0</td>\n",
       "    </tr>\n",
       "    <tr>\n",
       "      <th>4</th>\n",
       "      <td>30000.0</td>\n",
       "      <td>0.0</td>\n",
       "      <td>0.0</td>\n",
       "      <td>36.0</td>\n",
       "      <td>1</td>\n",
       "      <td>1</td>\n",
       "      <td>0</td>\n",
       "      <td>0</td>\n",
       "      <td>0</td>\n",
       "      <td>0</td>\n",
       "      <td>0</td>\n",
       "      <td>0</td>\n",
       "      <td>0</td>\n",
       "      <td>0</td>\n",
       "      <td>1</td>\n",
       "      <td>0</td>\n",
       "      <td>0</td>\n",
       "    </tr>\n",
       "  </tbody>\n",
       "</table>\n",
       "</div>"
      ],
      "text/plain": [
       "    Income  Children  Cars   Age  Marital Status  Gender  Occupation_1  \\\n",
       "0  40000.0       1.0   0.0  42.0               0       0             0   \n",
       "1  30000.0       3.0   1.0  43.0               0       1             0   \n",
       "2  80000.0       5.0   2.0  60.0               0       1             0   \n",
       "3  70000.0       0.0   1.0  41.0               1       1             0   \n",
       "4  30000.0       0.0   0.0  36.0               1       1             0   \n",
       "\n",
       "   Occupation_2  Occupation_3  Occupation_4  Home Owner  Region_1  Region_2  \\\n",
       "0             0             0             1           1         0         0   \n",
       "1             0             0             0           1         0         0   \n",
       "2             0             1             0           0         0         0   \n",
       "3             0             1             0           1         0         1   \n",
       "4             0             0             0           0         0         0   \n",
       "\n",
       "   Commute Distance_1  Commute Distance_2  Commute Distance_3  \\\n",
       "0                   0                   1                   0   \n",
       "1                   0                   1                   0   \n",
       "2                   0                   0                   1   \n",
       "3                   1                   0                   0   \n",
       "4                   0                   1                   0   \n",
       "\n",
       "   Commute Distance_4  \n",
       "0                   0  \n",
       "1                   0  \n",
       "2                   0  \n",
       "3                   0  \n",
       "4                   0  "
      ]
     },
     "execution_count": 37,
     "metadata": {},
     "output_type": "execute_result"
    }
   ],
   "source": [
    "\n",
    "numerical = X[numericas]\n",
    "numerical\n",
    "preprocessed_data = pd.merge(numerical, categorical, left_index=True, right_index=True)\n",
    "preprocessed_data.head()"
   ]
  },
  {
   "cell_type": "code",
   "execution_count": 38,
   "metadata": {},
   "outputs": [
    {
     "name": "stdout",
     "output_type": "stream",
     "text": [
      "N de  Marital Status : 2\n",
      "N de  Gender : 2\n",
      "N de  Occupation : 5\n",
      "N de  Home Owner : 2\n",
      "N de  Region : 3\n",
      "N de  New Commute Distance : 5\n"
     ]
    }
   ],
   "source": [
    "variables_str  = X.select_dtypes(include = ['object','category']).columns.tolist()\n",
    "for var in variables_str:\n",
    "    print('N de ', var,':',bikeB3[var].nunique())"
   ]
  },
  {
   "attachments": {},
   "cell_type": "markdown",
   "metadata": {},
   "source": [
    "Entrenamiento"
   ]
  },
  {
   "cell_type": "code",
   "execution_count": 39,
   "metadata": {},
   "outputs": [],
   "source": [
    "X_train, X_test, y_train, y_test = train_test_split(preprocessed_data,Y,train_size = 0.8,random_state = 20,stratify = Y)"
   ]
  },
  {
   "cell_type": "code",
   "execution_count": 40,
   "metadata": {},
   "outputs": [],
   "source": [
    "model_rf = RandomForestClassifier(random_state = 49, max_features = \"auto\")\n"
   ]
  },
  {
   "cell_type": "code",
   "execution_count": 41,
   "metadata": {},
   "outputs": [
    {
     "name": "stdout",
     "output_type": "stream",
     "text": [
      "Todos los scores: [0.74       0.63333333 0.73333333 0.67333333 0.75167785]\n",
      "Promedio de los scores: 0.7063355704697987\n"
     ]
    }
   ],
   "source": [
    "skf = StratifiedKFold(n_splits= 5,shuffle=True, random_state = 49)\n",
    "cross_val = cross_val_score(cv = skf, estimator = model_rf, X=X_train, y=y_train,scoring = 'accuracy') # 'auc_roc'\n",
    "\n",
    "print(\"Todos los scores:\",cross_val)\n",
    "print(\"Promedio de los scores:\",np.mean(cross_val))"
   ]
  },
  {
   "cell_type": "code",
   "execution_count": 42,
   "metadata": {},
   "outputs": [],
   "source": [
    "# Entrenamiento\n",
    "model_rf_all = model_rf.fit(X_train, y_train)"
   ]
  },
  {
   "cell_type": "code",
   "execution_count": 43,
   "metadata": {},
   "outputs": [
    {
     "data": {
      "text/html": [
       "<div>\n",
       "<style scoped>\n",
       "    .dataframe tbody tr th:only-of-type {\n",
       "        vertical-align: middle;\n",
       "    }\n",
       "\n",
       "    .dataframe tbody tr th {\n",
       "        vertical-align: top;\n",
       "    }\n",
       "\n",
       "    .dataframe thead th {\n",
       "        text-align: right;\n",
       "    }\n",
       "</style>\n",
       "<table border=\"1\" class=\"dataframe\">\n",
       "  <thead>\n",
       "    <tr style=\"text-align: right;\">\n",
       "      <th></th>\n",
       "      <th>variable</th>\n",
       "      <th>Importancia</th>\n",
       "    </tr>\n",
       "  </thead>\n",
       "  <tbody>\n",
       "    <tr>\n",
       "      <th>3</th>\n",
       "      <td>Age</td>\n",
       "      <td>0.262985</td>\n",
       "    </tr>\n",
       "    <tr>\n",
       "      <th>0</th>\n",
       "      <td>Income</td>\n",
       "      <td>0.135363</td>\n",
       "    </tr>\n",
       "    <tr>\n",
       "      <th>1</th>\n",
       "      <td>Children</td>\n",
       "      <td>0.117185</td>\n",
       "    </tr>\n",
       "    <tr>\n",
       "      <th>2</th>\n",
       "      <td>Cars</td>\n",
       "      <td>0.099649</td>\n",
       "    </tr>\n",
       "    <tr>\n",
       "      <th>5</th>\n",
       "      <td>Gender</td>\n",
       "      <td>0.054511</td>\n",
       "    </tr>\n",
       "    <tr>\n",
       "      <th>4</th>\n",
       "      <td>Marital Status</td>\n",
       "      <td>0.048172</td>\n",
       "    </tr>\n",
       "    <tr>\n",
       "      <th>10</th>\n",
       "      <td>Home Owner</td>\n",
       "      <td>0.038557</td>\n",
       "    </tr>\n",
       "    <tr>\n",
       "      <th>11</th>\n",
       "      <td>Region_1</td>\n",
       "      <td>0.034859</td>\n",
       "    </tr>\n",
       "    <tr>\n",
       "      <th>14</th>\n",
       "      <td>Commute Distance_2</td>\n",
       "      <td>0.029962</td>\n",
       "    </tr>\n",
       "    <tr>\n",
       "      <th>15</th>\n",
       "      <td>Commute Distance_3</td>\n",
       "      <td>0.027831</td>\n",
       "    </tr>\n",
       "    <tr>\n",
       "      <th>12</th>\n",
       "      <td>Region_2</td>\n",
       "      <td>0.026878</td>\n",
       "    </tr>\n",
       "    <tr>\n",
       "      <th>13</th>\n",
       "      <td>Commute Distance_1</td>\n",
       "      <td>0.026678</td>\n",
       "    </tr>\n",
       "    <tr>\n",
       "      <th>16</th>\n",
       "      <td>Commute Distance_4</td>\n",
       "      <td>0.024470</td>\n",
       "    </tr>\n",
       "    <tr>\n",
       "      <th>9</th>\n",
       "      <td>Occupation_4</td>\n",
       "      <td>0.023446</td>\n",
       "    </tr>\n",
       "    <tr>\n",
       "      <th>8</th>\n",
       "      <td>Occupation_3</td>\n",
       "      <td>0.021683</td>\n",
       "    </tr>\n",
       "    <tr>\n",
       "      <th>6</th>\n",
       "      <td>Occupation_1</td>\n",
       "      <td>0.014148</td>\n",
       "    </tr>\n",
       "    <tr>\n",
       "      <th>7</th>\n",
       "      <td>Occupation_2</td>\n",
       "      <td>0.013622</td>\n",
       "    </tr>\n",
       "  </tbody>\n",
       "</table>\n",
       "</div>"
      ],
      "text/plain": [
       "              variable  Importancia\n",
       "3                  Age     0.262985\n",
       "0               Income     0.135363\n",
       "1             Children     0.117185\n",
       "2                 Cars     0.099649\n",
       "5               Gender     0.054511\n",
       "4       Marital Status     0.048172\n",
       "10          Home Owner     0.038557\n",
       "11            Region_1     0.034859\n",
       "14  Commute Distance_2     0.029962\n",
       "15  Commute Distance_3     0.027831\n",
       "12            Region_2     0.026878\n",
       "13  Commute Distance_1     0.026678\n",
       "16  Commute Distance_4     0.024470\n",
       "9         Occupation_4     0.023446\n",
       "8         Occupation_3     0.021683\n",
       "6         Occupation_1     0.014148\n",
       "7         Occupation_2     0.013622"
      ]
     },
     "execution_count": 43,
     "metadata": {},
     "output_type": "execute_result"
    }
   ],
   "source": [
    "features_rf = pd.DataFrame()\n",
    "features_rf['variable'] = X_train.columns\n",
    "features_rf['Importancia'] = model_rf_all.feature_importances_\n",
    "features_rf.sort_values(by = ['Importancia'],ascending=False,inplace = True)\n",
    "features_rf"
   ]
  },
  {
   "cell_type": "code",
   "execution_count": 44,
   "metadata": {},
   "outputs": [
    {
     "data": {
      "text/plain": [
       "<AxesSubplot:xlabel='Importancia', ylabel='variable'>"
      ]
     },
     "execution_count": 44,
     "metadata": {},
     "output_type": "execute_result"
    },
    {
     "data": {
      "image/png": "[encoded data removed]",
      "text/plain": [
       "<Figure size 576x432 with 1 Axes>"
      ]
     },
     "metadata": {
      "needs_background": "light"
     },
     "output_type": "display_data"
    }
   ],
   "source": [
    "fig,ax = plt.subplots(1,1,figsize = (8,6))\n",
    "sb.barplot(y='variable',x = 'Importancia',data = features_rf.head(10),\n",
    "           order =features_rf.head(10)['variable'],\n",
    "           ax=ax)"
   ]
  },
  {
   "cell_type": "code",
   "execution_count": 45,
   "metadata": {},
   "outputs": [],
   "source": [
    "def tidy_corr_matrix(corr_mat):\n",
    "    '''\n",
    "    Función para convertir una matrix de correlación de pandas en formato tidy\n",
    "    '''\n",
    "    corr_mat = corr_mat.stack().reset_index()\n",
    "    corr_mat.columns = ['variable_1','variable_2','r']\n",
    "    corr_mat = corr_mat.loc[corr_mat['variable_1'] != corr_mat['variable_2'], :]\n",
    "    corr_mat['abs_r'] = np.abs(corr_mat['r'])\n",
    "    corr_mat = corr_mat.sort_values('abs_r', ascending=False)\n",
    "    \n",
    "    return(corr_mat)"
   ]
  },
  {
   "cell_type": "code",
   "execution_count": 46,
   "metadata": {},
   "outputs": [
    {
     "data": {
      "image/png": "[encoded data removed]",
      "text/plain": [
       "<Figure size 720x432 with 2 Axes>"
      ]
     },
     "metadata": {
      "needs_background": "light"
     },
     "output_type": "display_data"
    }
   ],
   "source": [
    "corr_matrix = bikeB3.select_dtypes(include=['float64', 'int']).corr(method='pearson')\n",
    "corr = sb.heatmap(corr_matrix, \n",
    "                   vmax = 1, \n",
    "                   square = True, \n",
    "                   linewidth = 0.5, \n",
    "                   yticklabels = True, \n",
    "                   xticklabels = True, \n",
    "            cbar_kws = {'shrink' : 1}, \n",
    "                   annot = True, \n",
    "                   fmt = '.2f', \n",
    "                   cmap = 'PuBu')\n",
    "corr.figure.set_size_inches(10,6)"
   ]
  },
  {
   "cell_type": "code",
   "execution_count": 47,
   "metadata": {},
   "outputs": [],
   "source": [
    "\n",
    "df_final = bikeB3\n"
   ]
  },
  {
   "cell_type": "code",
   "execution_count": 48,
   "metadata": {},
   "outputs": [],
   "source": [
    "XF = df_final.drop(['Purchased Bike'], axis = 1)\n",
    "YF = df_final['Purchased Bike']"
   ]
  },
  {
   "cell_type": "code",
   "execution_count": 49,
   "metadata": {},
   "outputs": [
    {
     "data": {
      "text/plain": [
       "['Marital Status',\n",
       " 'Gender',\n",
       " 'Occupation',\n",
       " 'Home Owner',\n",
       " 'Region',\n",
       " 'New Commute Distance']"
      ]
     },
     "execution_count": 49,
     "metadata": {},
     "output_type": "execute_result"
    }
   ],
   "source": [
    "categoricas = XF.select_dtypes(include=('object','category')).columns.tolist()\n",
    "numericas = XF.select_dtypes(include=('int64','float64')).columns.tolist()\n",
    "categoricas"
   ]
  },
  {
   "cell_type": "code",
   "execution_count": 50,
   "metadata": {},
   "outputs": [],
   "source": [
    "categorical=pd.get_dummies(XF[categoricas],columns=categoricas,drop_first=True)\n",
    "categorical.columns = ['Marital Status','Gender','Occupation_1','Occupation_2','Occupation_3',\n",
    "'Occupation_4','Home Owner','Region_1','Region_2',\"Commute Distance_1\",\"Commute Distance_2\",\"Commute Distance_3\",\"Commute Distance_4\"]\n",
    "\n",
    "#categorical.columns = ['Marital Status','Gender','Education_1','Education_2','Education_3','Education_4','Occupation_1','Occupation_2','Occupation_3',\n",
    "#'Occupation_4','Home Owner','Region_1','Region_2',\"Commute Distance_1\",\"Commute Distance_2\",\"Commute Distance_3\",\"Commute Distance_4\",\"Con_Hijos\",\"Con_vehiculos\"]\n",
    "\n"
   ]
  },
  {
   "cell_type": "code",
   "execution_count": 51,
   "metadata": {},
   "outputs": [],
   "source": [
    "#opcional?\n",
    "scaler = StandardScaler()\n",
    "numerical = XF[numericas]\n",
    "numerical\n",
    "numerical = pd.DataFrame(scaler.fit_transform(numerical),\n",
    "                         columns=['Income','Children','Car','Age'],index= numerical.index)"
   ]
  },
  {
   "cell_type": "code",
   "execution_count": 52,
   "metadata": {},
   "outputs": [
    {
     "data": {
      "text/html": [
       "<div>\n",
       "<style scoped>\n",
       "    .dataframe tbody tr th:only-of-type {\n",
       "        vertical-align: middle;\n",
       "    }\n",
       "\n",
       "    .dataframe tbody tr th {\n",
       "        vertical-align: top;\n",
       "    }\n",
       "\n",
       "    .dataframe thead th {\n",
       "        text-align: right;\n",
       "    }\n",
       "</style>\n",
       "<table border=\"1\" class=\"dataframe\">\n",
       "  <thead>\n",
       "    <tr style=\"text-align: right;\">\n",
       "      <th></th>\n",
       "      <th>Income</th>\n",
       "      <th>Children</th>\n",
       "      <th>Car</th>\n",
       "      <th>Age</th>\n",
       "      <th>Marital Status</th>\n",
       "      <th>Gender</th>\n",
       "      <th>Occupation_1</th>\n",
       "      <th>Occupation_2</th>\n",
       "      <th>Occupation_3</th>\n",
       "      <th>Occupation_4</th>\n",
       "      <th>Home Owner</th>\n",
       "      <th>Region_1</th>\n",
       "      <th>Region_2</th>\n",
       "      <th>Commute Distance_1</th>\n",
       "      <th>Commute Distance_2</th>\n",
       "      <th>Commute Distance_3</th>\n",
       "      <th>Commute Distance_4</th>\n",
       "    </tr>\n",
       "  </thead>\n",
       "  <tbody>\n",
       "    <tr>\n",
       "      <th>0</th>\n",
       "      <td>-0.462282</td>\n",
       "      <td>-0.545770</td>\n",
       "      <td>-1.294016</td>\n",
       "      <td>-0.159257</td>\n",
       "      <td>0</td>\n",
       "      <td>0</td>\n",
       "      <td>0</td>\n",
       "      <td>0</td>\n",
       "      <td>0</td>\n",
       "      <td>1</td>\n",
       "      <td>1</td>\n",
       "      <td>0</td>\n",
       "      <td>0</td>\n",
       "      <td>0</td>\n",
       "      <td>1</td>\n",
       "      <td>0</td>\n",
       "      <td>0</td>\n",
       "    </tr>\n",
       "    <tr>\n",
       "      <th>1</th>\n",
       "      <td>-0.862614</td>\n",
       "      <td>0.677642</td>\n",
       "      <td>-0.340798</td>\n",
       "      <td>-0.069687</td>\n",
       "      <td>0</td>\n",
       "      <td>1</td>\n",
       "      <td>0</td>\n",
       "      <td>0</td>\n",
       "      <td>0</td>\n",
       "      <td>0</td>\n",
       "      <td>1</td>\n",
       "      <td>0</td>\n",
       "      <td>0</td>\n",
       "      <td>0</td>\n",
       "      <td>1</td>\n",
       "      <td>0</td>\n",
       "      <td>0</td>\n",
       "    </tr>\n",
       "    <tr>\n",
       "      <th>2</th>\n",
       "      <td>1.139043</td>\n",
       "      <td>1.901055</td>\n",
       "      <td>0.612420</td>\n",
       "      <td>1.453007</td>\n",
       "      <td>0</td>\n",
       "      <td>1</td>\n",
       "      <td>0</td>\n",
       "      <td>0</td>\n",
       "      <td>1</td>\n",
       "      <td>0</td>\n",
       "      <td>0</td>\n",
       "      <td>0</td>\n",
       "      <td>0</td>\n",
       "      <td>0</td>\n",
       "      <td>0</td>\n",
       "      <td>1</td>\n",
       "      <td>0</td>\n",
       "    </tr>\n",
       "    <tr>\n",
       "      <th>3</th>\n",
       "      <td>0.738712</td>\n",
       "      <td>-1.157476</td>\n",
       "      <td>-0.340798</td>\n",
       "      <td>-0.248827</td>\n",
       "      <td>1</td>\n",
       "      <td>1</td>\n",
       "      <td>0</td>\n",
       "      <td>0</td>\n",
       "      <td>1</td>\n",
       "      <td>0</td>\n",
       "      <td>1</td>\n",
       "      <td>0</td>\n",
       "      <td>1</td>\n",
       "      <td>1</td>\n",
       "      <td>0</td>\n",
       "      <td>0</td>\n",
       "      <td>0</td>\n",
       "    </tr>\n",
       "    <tr>\n",
       "      <th>4</th>\n",
       "      <td>-0.862614</td>\n",
       "      <td>-1.157476</td>\n",
       "      <td>-1.294016</td>\n",
       "      <td>-0.696678</td>\n",
       "      <td>1</td>\n",
       "      <td>1</td>\n",
       "      <td>0</td>\n",
       "      <td>0</td>\n",
       "      <td>0</td>\n",
       "      <td>0</td>\n",
       "      <td>0</td>\n",
       "      <td>0</td>\n",
       "      <td>0</td>\n",
       "      <td>0</td>\n",
       "      <td>1</td>\n",
       "      <td>0</td>\n",
       "      <td>0</td>\n",
       "    </tr>\n",
       "  </tbody>\n",
       "</table>\n",
       "</div>"
      ],
      "text/plain": [
       "     Income  Children       Car       Age  Marital Status  Gender  \\\n",
       "0 -0.462282 -0.545770 -1.294016 -0.159257               0       0   \n",
       "1 -0.862614  0.677642 -0.340798 -0.069687               0       1   \n",
       "2  1.139043  1.901055  0.612420  1.453007               0       1   \n",
       "3  0.738712 -1.157476 -0.340798 -0.248827               1       1   \n",
       "4 -0.862614 -1.157476 -1.294016 -0.696678               1       1   \n",
       "\n",
       "   Occupation_1  Occupation_2  Occupation_3  Occupation_4  Home Owner  \\\n",
       "0             0             0             0             1           1   \n",
       "1             0             0             0             0           1   \n",
       "2             0             0             1             0           0   \n",
       "3             0             0             1             0           1   \n",
       "4             0             0             0             0           0   \n",
       "\n",
       "   Region_1  Region_2  Commute Distance_1  Commute Distance_2  \\\n",
       "0         0         0                   0                   1   \n",
       "1         0         0                   0                   1   \n",
       "2         0         0                   0                   0   \n",
       "3         0         1                   1                   0   \n",
       "4         0         0                   0                   1   \n",
       "\n",
       "   Commute Distance_3  Commute Distance_4  \n",
       "0                   0                   0  \n",
       "1                   0                   0  \n",
       "2                   1                   0  \n",
       "3                   0                   0  \n",
       "4                   0                   0  "
      ]
     },
     "execution_count": 52,
     "metadata": {},
     "output_type": "execute_result"
    }
   ],
   "source": [
    "preprocessed_data = pd.merge(numerical, categorical, left_index=True, right_index=True)\n",
    "preprocessed_data.head()"
   ]
  },
  {
   "cell_type": "code",
   "execution_count": 53,
   "metadata": {},
   "outputs": [],
   "source": [
    "X_train, X_test, y_train, y_test = train_test_split(preprocessed_data,YF,train_size = 0.8,random_state = 20,stratify = YF)"
   ]
  },
  {
   "cell_type": "code",
   "execution_count": 54,
   "metadata": {},
   "outputs": [],
   "source": [
    "rl = LogisticRegression(max_iter = 250, # Número máximo de iteraciones \n",
    "                        C = 0.5,        # Inverso de la fuerza de regularización\n",
    "                        penalty='l2',\n",
    "                        solver = 'sag') # Penalización admitida L2"
   ]
  },
  {
   "cell_type": "code",
   "execution_count": 55,
   "metadata": {},
   "outputs": [
    {
     "name": "stdout",
     "output_type": "stream",
     "text": [
      "Todos los scores: [0.61333333 0.62666667 0.65333333 0.59333333 0.66442953]\n",
      "Promedio de los scores: 0.6302192393736018\n"
     ]
    }
   ],
   "source": [
    "skf = StratifiedKFold(n_splits= 5,shuffle=True, random_state = 49)\n",
    "cross_val = cross_val_score(cv = skf,\n",
    "                           estimator = rl,# Modelo\n",
    "                           X=X_train,\n",
    "                           y=y_train, \n",
    "                           scoring = 'accuracy') # 'auc_roc'\n",
    "\n",
    "print(\"Todos los scores:\",cross_val)\n",
    "print(\"Promedio de los scores:\",np.mean(cross_val))"
   ]
  },
  {
   "cell_type": "code",
   "execution_count": 56,
   "metadata": {},
   "outputs": [
    {
     "name": "stderr",
     "output_type": "stream",
     "text": [
      "c:\\Users\\karim\\anaconda3\\lib\\site-packages\\seaborn\\distributions.py:2619: FutureWarning: `distplot` is a deprecated function and will be removed in a future version. Please adapt your code to use either `displot` (a figure-level function with similar flexibility) or `histplot` (an axes-level function for histograms).\n",
      "  warnings.warn(msg, FutureWarning)\n"
     ]
    },
    {
     "data": {
      "image/png": "[encoded data removed]",
      "text/plain": [
       "<Figure size 432x288 with 1 Axes>"
      ]
     },
     "metadata": {
      "needs_background": "light"
     },
     "output_type": "display_data"
    }
   ],
   "source": [
    "cv_score_rl = cross_val_score(rl, X_train, y_train, cv=skf, scoring='accuracy', n_jobs=1)\n",
    "sb.distplot(cv_score_rl, color='#f2209c')\n",
    "#plt.savefig('Xval_logreg.png', bbox_inches='tight')"
   ]
  },
  {
   "cell_type": "code",
   "execution_count": 57,
   "metadata": {},
   "outputs": [
    {
     "data": {
      "text/plain": [
       "LogisticRegression(C=0.5, max_iter=250, solver='sag')"
      ]
     },
     "execution_count": 57,
     "metadata": {},
     "output_type": "execute_result"
    }
   ],
   "source": [
    "rl.fit(X_train, y_train) "
   ]
  },
  {
   "cell_type": "code",
   "execution_count": 58,
   "metadata": {},
   "outputs": [],
   "source": [
    "y_pred_train=rl.predict(X_train) # Prediccion sobre el train\n",
    "y_pred_test=rl.predict(X_test) # Prediccion sobre el test"
   ]
  },
  {
   "cell_type": "code",
   "execution_count": 59,
   "metadata": {},
   "outputs": [
    {
     "data": {
      "text/plain": [
       "(array([23., 26., 16., 28., 24., 25., 20., 16.,  8.,  2.]),\n",
       " array([0.21504621, 0.28323476, 0.3514233 , 0.41961184, 0.48780038,\n",
       "        0.55598893, 0.62417747, 0.69236601, 0.76055456, 0.8287431 ,\n",
       "        0.89693164]),\n",
       " <BarContainer object of 10 artists>)"
      ]
     },
     "execution_count": 59,
     "metadata": {},
     "output_type": "execute_result"
    },
    {
     "data": {
      "image/png": "[encoded data removed]",
      "text/plain": [
       "<Figure size 432x288 with 1 Axes>"
      ]
     },
     "metadata": {
      "needs_background": "light"
     },
     "output_type": "display_data"
    }
   ],
   "source": [
    "prob_test_rl = rl.predict_proba(X_test)[:,1]\n",
    "plt.hist(prob_test_rl, color = '#ea068d', rwidth=0.9)\n",
    "#plt.savefig('Probabilidades_logreg.png', bbox_inches='tight')"
   ]
  },
  {
   "cell_type": "code",
   "execution_count": 60,
   "metadata": {},
   "outputs": [
    {
     "data": {
      "text/plain": [
       "(array([ 18.,  57.,  79., 126., 132., 115., 117.,  61.,  33.,  11.]),\n",
       " array([0.08912431, 0.17127032, 0.25341634, 0.33556235, 0.41770836,\n",
       "        0.49985437, 0.58200038, 0.66414639, 0.7462924 , 0.82843841,\n",
       "        0.91058442]),\n",
       " <BarContainer object of 10 artists>)"
      ]
     },
     "execution_count": 60,
     "metadata": {},
     "output_type": "execute_result"
    },
    {
     "data": {
      "image/png": "[encoded data removed]",
      "text/plain": [
       "<Figure size 432x288 with 1 Axes>"
      ]
     },
     "metadata": {
      "needs_background": "light"
     },
     "output_type": "display_data"
    }
   ],
   "source": [
    "prob_train_rl = rl.predict_proba(X_train)[:,1]\n",
    "plt.hist(prob_train_rl, color = '#ff74c6', rwidth=0.9)\n",
    "#plt.savefig('Probabilidades_train_logreg.png', bbox_inches='tight')"
   ]
  },
  {
   "cell_type": "code",
   "execution_count": 61,
   "metadata": {},
   "outputs": [],
   "source": [
    "#MATRIZ DE CONFU\n",
    "## Funciones\n",
    "def print_mc(matriz_conf):\n",
    "    matriz_conf = pd.DataFrame(matriz_conf)\n",
    "    matriz_conf.index = [\"Real_0\",\"Real_1\"]\n",
    "    matriz_conf.columns = [\"Pred_0\",\"Pred_1\"]\n",
    "    print(matriz_conf)\n",
    "    \n",
    "def fx_evaluate_classif(y_real, pred, pred_proba):\n",
    "    from sklearn import metrics as mt\n",
    "    matriz_conf = mt.confusion_matrix(y_real,pred)\n",
    "    print_mc(matriz_conf)\n",
    "    roc = mt.roc_auc_score(y_real,pred_proba)\n",
    "    accuracy_real = mt.accuracy_score(y_real,pred)\n",
    "    print(\"\\nROC: \", roc) \n",
    "    print(\"Accu:\", accuracy_real,'\\n')\n",
    "    print(mt.classification_report(y_real, pred)[0:163])"
   ]
  },
  {
   "cell_type": "code",
   "execution_count": 62,
   "metadata": {},
   "outputs": [
    {
     "name": "stdout",
     "output_type": "stream",
     "text": [
      "Metricas del Testing...\n",
      "\n",
      "        Pred_0  Pred_1\n",
      "Real_0      67      31\n",
      "Real_1      31      59\n",
      "\n",
      "ROC:  0.7310657596371883\n",
      "Accu: 0.6702127659574468 \n",
      "\n",
      "              precision    recall  f1-score   support\n",
      "\n",
      "           0       0.68      0.68      0.68        98\n",
      "           1       0.66      0.66      0.66        90\n",
      "\n"
     ]
    }
   ],
   "source": [
    "print(\"Metricas del Testing...\" + \"\\n\")\n",
    "fx_evaluate_classif(y_test, y_pred_test, prob_test_rl)"
   ]
  },
  {
   "cell_type": "code",
   "execution_count": 63,
   "metadata": {},
   "outputs": [
    {
     "data": {
      "image/png": "[encoded data removed]",
      "text/plain": [
       "<Figure size 432x288 with 1 Axes>"
      ]
     },
     "metadata": {
      "needs_background": "light"
     },
     "output_type": "display_data"
    }
   ],
   "source": [
    "mat_logreg = confusion_matrix(y_test, y_pred_test)\n",
    "sb.heatmap(mat_logreg, annot=True, fmt='d',cmap='nipy_spectral', square=True, cbar=False, annot_kws = {'size' : 20})\n",
    "plt.ylabel('Actual')\n",
    "plt.xlabel('Predicted')\n",
    "#plt.savefig('Confusion_matrix_logreg.png', bbox_inches='tight')"
   ]
  },
  {
   "cell_type": "code",
   "execution_count": 64,
   "metadata": {},
   "outputs": [
    {
     "data": {
      "text/plain": [
       "0.7310657596371883"
      ]
     },
     "execution_count": 64,
     "metadata": {},
     "output_type": "execute_result"
    }
   ],
   "source": [
    "auc_rl = metrics.roc_auc_score(y_test, prob_test_rl)\n",
    "auc_rl"
   ]
  },
  {
   "cell_type": "code",
   "execution_count": 65,
   "metadata": {},
   "outputs": [
    {
     "data": {
      "text/plain": [
       "<matplotlib.legend.Legend at 0x1b4a8e03eb0>"
      ]
     },
     "execution_count": 65,
     "metadata": {},
     "output_type": "execute_result"
    },
    {
     "data": {
      "image/png": "[encoded data removed]",
      "text/plain": [
       "<Figure size 432x288 with 1 Axes>"
      ]
     },
     "metadata": {
      "needs_background": "light"
     },
     "output_type": "display_data"
    }
   ],
   "source": [
    "fpr, tpr, thresholds = metrics.roc_curve(y_test, prob_test_rl)\n",
    "plt.plot(fpr, tpr, label= \"AUC = \" + str(auc_rl.round(3)), color='#ea068d')\n",
    "plt.plot([0, 1], [0, 1], linestyle='--', color='gray')\n",
    "plt.title('ROC CURVE and AUC for Logistic Regression')\n",
    "plt.xlabel('False Positive Rate') \n",
    "plt.ylabel('True Positive Rate')\n",
    "plt.legend(bbox_to_anchor=(.5,-0.23), loc='upper center')\n"
   ]
  }
 ],
 "metadata": {
  "kernelspec": {
   "display_name": "base",
   "language": "python",
   "name": "python3"
  },
  "language_info": {
   "codemirror_mode": {
    "name": "ipython",
    "version": 3
   },
   "file_extension": ".py",
   "mimetype": "text/x-python",
   "name": "python",
   "nbconvert_exporter": "python",
   "pygments_lexer": "ipython3",
   "version": "3.9.7"
  },
  "orig_nbformat": 4
 },
 "nbformat": 4,
 "nbformat_minor": 2
}
